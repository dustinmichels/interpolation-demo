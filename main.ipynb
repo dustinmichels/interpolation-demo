{
 "cells": [
  {
   "cell_type": "code",
   "execution_count": 1,
   "id": "84d190c8-ce33-46f3-bf36-b3aa28a24d8b",
   "metadata": {},
   "outputs": [],
   "source": [
    "import pandas as pd\n",
    "import altair as alt"
   ]
  },
  {
   "cell_type": "code",
   "execution_count": 2,
   "id": "405032fe-6bbe-4121-a114-fce6cb0cef44",
   "metadata": {},
   "outputs": [],
   "source": [
    "df = pd.read_csv(\"data/irradiance.csv\")"
   ]
  },
  {
   "cell_type": "code",
   "execution_count": 3,
   "id": "c4029792-96a6-49db-9379-083718c6d4d2",
   "metadata": {},
   "outputs": [
    {
     "data": {
      "text/html": [
       "<div>\n",
       "<style scoped>\n",
       "    .dataframe tbody tr th:only-of-type {\n",
       "        vertical-align: middle;\n",
       "    }\n",
       "\n",
       "    .dataframe tbody tr th {\n",
       "        vertical-align: top;\n",
       "    }\n",
       "\n",
       "    .dataframe thead th {\n",
       "        text-align: right;\n",
       "    }\n",
       "</style>\n",
       "<table border=\"1\" class=\"dataframe\">\n",
       "  <thead>\n",
       "    <tr style=\"text-align: right;\">\n",
       "      <th></th>\n",
       "      <th>device_id</th>\n",
       "      <th>timestamp</th>\n",
       "      <th>irradiance</th>\n",
       "    </tr>\n",
       "  </thead>\n",
       "  <tbody>\n",
       "    <tr>\n",
       "      <th>0</th>\n",
       "      <td>9</td>\n",
       "      <td>2024-06-01 00:00:00</td>\n",
       "      <td>0</td>\n",
       "    </tr>\n",
       "    <tr>\n",
       "      <th>1</th>\n",
       "      <td>9</td>\n",
       "      <td>2024-06-01 01:00:00</td>\n",
       "      <td>0</td>\n",
       "    </tr>\n",
       "    <tr>\n",
       "      <th>2</th>\n",
       "      <td>9</td>\n",
       "      <td>2024-06-01 02:00:00</td>\n",
       "      <td>0</td>\n",
       "    </tr>\n",
       "    <tr>\n",
       "      <th>3</th>\n",
       "      <td>9</td>\n",
       "      <td>2024-06-01 03:00:00</td>\n",
       "      <td>0</td>\n",
       "    </tr>\n",
       "    <tr>\n",
       "      <th>4</th>\n",
       "      <td>9</td>\n",
       "      <td>2024-06-01 04:00:00</td>\n",
       "      <td>0</td>\n",
       "    </tr>\n",
       "  </tbody>\n",
       "</table>\n",
       "</div>"
      ],
      "text/plain": [
       "   device_id            timestamp  irradiance\n",
       "0          9  2024-06-01 00:00:00           0\n",
       "1          9  2024-06-01 01:00:00           0\n",
       "2          9  2024-06-01 02:00:00           0\n",
       "3          9  2024-06-01 03:00:00           0\n",
       "4          9  2024-06-01 04:00:00           0"
      ]
     },
     "execution_count": 3,
     "metadata": {},
     "output_type": "execute_result"
    }
   ],
   "source": [
    "# show first five rows\n",
    "df.head()"
   ]
  },
  {
   "cell_type": "markdown",
   "id": "4d0a5a63-4d85-4127-8fbc-32c9f9b0d1c2",
   "metadata": {},
   "source": [
    "## Reshape data for interpolation"
   ]
  },
  {
   "cell_type": "code",
   "execution_count": 4,
   "id": "05fafa8c-b48b-49bb-836c-ab1bc2533e70",
   "metadata": {},
   "outputs": [],
   "source": [
    "# ensure proper data type\n",
    "df['timestamp'] =  pd.to_datetime(df['timestamp'])\n",
    "\n",
    "# ensure we just have a single device, then drop device column\n",
    "df[df['device_id'] == 9]\n",
    "df = df[['timestamp', 'irradiance']]\n",
    "\n",
    "# set index to timestamp and \n",
    "df = df.set_index('timestamp').sort_index()\n",
    "\n",
    "# resample so we have one entry for every hour\n",
    "df_hourly = df.resample('1h').asfreq()\n",
    "\n",
    "# add column to indicate if data was missing\n",
    "df_hourly['missing'] = df_hourly['irradiance'].isna()"
   ]
  },
  {
   "cell_type": "code",
   "execution_count": 5,
   "id": "1c54c463-458d-4a2a-bb41-3276789549db",
   "metadata": {},
   "outputs": [
    {
     "data": {
      "text/html": [
       "<div>\n",
       "<style scoped>\n",
       "    .dataframe tbody tr th:only-of-type {\n",
       "        vertical-align: middle;\n",
       "    }\n",
       "\n",
       "    .dataframe tbody tr th {\n",
       "        vertical-align: top;\n",
       "    }\n",
       "\n",
       "    .dataframe thead th {\n",
       "        text-align: right;\n",
       "    }\n",
       "</style>\n",
       "<table border=\"1\" class=\"dataframe\">\n",
       "  <thead>\n",
       "    <tr style=\"text-align: right;\">\n",
       "      <th></th>\n",
       "      <th>irradiance</th>\n",
       "      <th>missing</th>\n",
       "    </tr>\n",
       "    <tr>\n",
       "      <th>timestamp</th>\n",
       "      <th></th>\n",
       "      <th></th>\n",
       "    </tr>\n",
       "  </thead>\n",
       "  <tbody>\n",
       "    <tr>\n",
       "      <th>2024-06-02 11:00:00</th>\n",
       "      <td>NaN</td>\n",
       "      <td>True</td>\n",
       "    </tr>\n",
       "    <tr>\n",
       "      <th>2024-06-02 12:00:00</th>\n",
       "      <td>NaN</td>\n",
       "      <td>True</td>\n",
       "    </tr>\n",
       "    <tr>\n",
       "      <th>2024-06-02 13:00:00</th>\n",
       "      <td>964.0</td>\n",
       "      <td>False</td>\n",
       "    </tr>\n",
       "    <tr>\n",
       "      <th>2024-06-02 14:00:00</th>\n",
       "      <td>851.0</td>\n",
       "      <td>False</td>\n",
       "    </tr>\n",
       "    <tr>\n",
       "      <th>2024-06-02 15:00:00</th>\n",
       "      <td>NaN</td>\n",
       "      <td>True</td>\n",
       "    </tr>\n",
       "  </tbody>\n",
       "</table>\n",
       "</div>"
      ],
      "text/plain": [
       "                     irradiance  missing\n",
       "timestamp                               \n",
       "2024-06-02 11:00:00         NaN     True\n",
       "2024-06-02 12:00:00         NaN     True\n",
       "2024-06-02 13:00:00       964.0    False\n",
       "2024-06-02 14:00:00       851.0    False\n",
       "2024-06-02 15:00:00         NaN     True"
      ]
     },
     "execution_count": 5,
     "metadata": {},
     "output_type": "execute_result"
    }
   ],
   "source": [
    "# preview some rows\n",
    "df_hourly.iloc[35:40]"
   ]
  },
  {
   "cell_type": "markdown",
   "id": "595a6e64-d6f9-4e0e-8639-8362b4af59ff",
   "metadata": {},
   "source": [
    "## Run interpolation function"
   ]
  },
  {
   "cell_type": "code",
   "execution_count": 6,
   "id": "f9ed267f-6a84-4e87-a6a9-576174e059ae",
   "metadata": {},
   "outputs": [
    {
     "data": {
      "text/html": [
       "<div>\n",
       "<style scoped>\n",
       "    .dataframe tbody tr th:only-of-type {\n",
       "        vertical-align: middle;\n",
       "    }\n",
       "\n",
       "    .dataframe tbody tr th {\n",
       "        vertical-align: top;\n",
       "    }\n",
       "\n",
       "    .dataframe thead th {\n",
       "        text-align: right;\n",
       "    }\n",
       "</style>\n",
       "<table border=\"1\" class=\"dataframe\">\n",
       "  <thead>\n",
       "    <tr style=\"text-align: right;\">\n",
       "      <th></th>\n",
       "      <th>irradiance</th>\n",
       "      <th>missing</th>\n",
       "    </tr>\n",
       "    <tr>\n",
       "      <th>timestamp</th>\n",
       "      <th></th>\n",
       "      <th></th>\n",
       "    </tr>\n",
       "  </thead>\n",
       "  <tbody>\n",
       "    <tr>\n",
       "      <th>2024-06-02 11:00:00</th>\n",
       "      <td>857.50</td>\n",
       "      <td>True</td>\n",
       "    </tr>\n",
       "    <tr>\n",
       "      <th>2024-06-02 12:00:00</th>\n",
       "      <td>910.75</td>\n",
       "      <td>True</td>\n",
       "    </tr>\n",
       "    <tr>\n",
       "      <th>2024-06-02 13:00:00</th>\n",
       "      <td>964.00</td>\n",
       "      <td>False</td>\n",
       "    </tr>\n",
       "    <tr>\n",
       "      <th>2024-06-02 14:00:00</th>\n",
       "      <td>851.00</td>\n",
       "      <td>False</td>\n",
       "    </tr>\n",
       "    <tr>\n",
       "      <th>2024-06-02 15:00:00</th>\n",
       "      <td>703.00</td>\n",
       "      <td>True</td>\n",
       "    </tr>\n",
       "  </tbody>\n",
       "</table>\n",
       "</div>"
      ],
      "text/plain": [
       "                     irradiance  missing\n",
       "timestamp                               \n",
       "2024-06-02 11:00:00      857.50     True\n",
       "2024-06-02 12:00:00      910.75     True\n",
       "2024-06-02 13:00:00      964.00    False\n",
       "2024-06-02 14:00:00      851.00    False\n",
       "2024-06-02 15:00:00      703.00     True"
      ]
     },
     "execution_count": 6,
     "metadata": {},
     "output_type": "execute_result"
    }
   ],
   "source": [
    "df_interpolated = df_hourly.interpolate(method='time')\n",
    "df_interpolated.iloc[35:40]"
   ]
  },
  {
   "cell_type": "markdown",
   "id": "95127314-3427-4011-b93a-d66cc9b5a744",
   "metadata": {},
   "source": [
    "## Make plot"
   ]
  },
  {
   "cell_type": "code",
   "execution_count": 7,
   "id": "cf3e086f-62a7-45ca-91b8-2ac846b4869a",
   "metadata": {},
   "outputs": [
    {
     "data": {
      "text/html": [
       "\n",
       "<style>\n",
       "  #altair-viz-024f953755f0424e9aa4b4845e2ec66f.vega-embed {\n",
       "    width: 100%;\n",
       "    display: flex;\n",
       "  }\n",
       "\n",
       "  #altair-viz-024f953755f0424e9aa4b4845e2ec66f.vega-embed details,\n",
       "  #altair-viz-024f953755f0424e9aa4b4845e2ec66f.vega-embed details summary {\n",
       "    position: relative;\n",
       "  }\n",
       "</style>\n",
       "<div id=\"altair-viz-024f953755f0424e9aa4b4845e2ec66f\"></div>\n",
       "<script type=\"text/javascript\">\n",
       "  var VEGA_DEBUG = (typeof VEGA_DEBUG == \"undefined\") ? {} : VEGA_DEBUG;\n",
       "  (function(spec, embedOpt){\n",
       "    let outputDiv = document.currentScript.previousElementSibling;\n",
       "    if (outputDiv.id !== \"altair-viz-024f953755f0424e9aa4b4845e2ec66f\") {\n",
       "      outputDiv = document.getElementById(\"altair-viz-024f953755f0424e9aa4b4845e2ec66f\");\n",
       "    }\n",
       "\n",
       "    const paths = {\n",
       "      \"vega\": \"https://cdn.jsdelivr.net/npm/vega@5?noext\",\n",
       "      \"vega-lib\": \"https://cdn.jsdelivr.net/npm/vega-lib?noext\",\n",
       "      \"vega-lite\": \"https://cdn.jsdelivr.net/npm/vega-lite@5.20.1?noext\",\n",
       "      \"vega-embed\": \"https://cdn.jsdelivr.net/npm/vega-embed@6?noext\",\n",
       "    };\n",
       "\n",
       "    function maybeLoadScript(lib, version) {\n",
       "      var key = `${lib.replace(\"-\", \"\")}_version`;\n",
       "      return (VEGA_DEBUG[key] == version) ?\n",
       "        Promise.resolve(paths[lib]) :\n",
       "        new Promise(function(resolve, reject) {\n",
       "          var s = document.createElement('script');\n",
       "          document.getElementsByTagName(\"head\")[0].appendChild(s);\n",
       "          s.async = true;\n",
       "          s.onload = () => {\n",
       "            VEGA_DEBUG[key] = version;\n",
       "            return resolve(paths[lib]);\n",
       "          };\n",
       "          s.onerror = () => reject(`Error loading script: ${paths[lib]}`);\n",
       "          s.src = paths[lib];\n",
       "        });\n",
       "    }\n",
       "\n",
       "    function showError(err) {\n",
       "      outputDiv.innerHTML = `<div class=\"error\" style=\"color:red;\">${err}</div>`;\n",
       "      throw err;\n",
       "    }\n",
       "\n",
       "    function displayChart(vegaEmbed) {\n",
       "      vegaEmbed(outputDiv, spec, embedOpt)\n",
       "        .catch(err => showError(`Javascript Error: ${err.message}<br>This usually means there's a typo in your chart specification. See the javascript console for the full traceback.`));\n",
       "    }\n",
       "\n",
       "    if(typeof define === \"function\" && define.amd) {\n",
       "      requirejs.config({paths});\n",
       "      let deps = [\"vega-embed\"];\n",
       "      require(deps, displayChart, err => showError(`Error loading script: ${err.message}`));\n",
       "    } else {\n",
       "      maybeLoadScript(\"vega\", \"5\")\n",
       "        .then(() => maybeLoadScript(\"vega-lite\", \"5.20.1\"))\n",
       "        .then(() => maybeLoadScript(\"vega-embed\", \"6\"))\n",
       "        .catch(showError)\n",
       "        .then(() => displayChart(vegaEmbed));\n",
       "    }\n",
       "  })({\"config\": {\"view\": {\"continuousWidth\": 300, \"continuousHeight\": 300}}, \"layer\": [{\"data\": {\"name\": \"data-cbff6478369e492a050d5e2dfa05733b\"}, \"mark\": {\"type\": \"point\"}, \"encoding\": {\"color\": {\"field\": \"missing\", \"type\": \"nominal\"}, \"x\": {\"field\": \"timestamp\", \"type\": \"temporal\"}, \"y\": {\"field\": \"irradiance\", \"type\": \"quantitative\"}}}, {\"data\": {\"name\": \"data-cbff6478369e492a050d5e2dfa05733b\"}, \"mark\": {\"type\": \"line\"}, \"encoding\": {\"x\": {\"field\": \"timestamp\", \"type\": \"temporal\"}, \"y\": {\"field\": \"irradiance\", \"type\": \"quantitative\"}}}], \"$schema\": \"https://vega.github.io/schema/vega-lite/v5.20.1.json\", \"datasets\": {\"data-cbff6478369e492a050d5e2dfa05733b\": [{\"timestamp\": \"2024-06-01T00:00:00\", \"irradiance\": 0.0, \"missing\": false}, {\"timestamp\": \"2024-06-01T01:00:00\", \"irradiance\": 0.0, \"missing\": false}, {\"timestamp\": \"2024-06-01T02:00:00\", \"irradiance\": 0.0, \"missing\": false}, {\"timestamp\": \"2024-06-01T03:00:00\", \"irradiance\": 0.0, \"missing\": false}, {\"timestamp\": \"2024-06-01T04:00:00\", \"irradiance\": 0.0, \"missing\": false}, {\"timestamp\": \"2024-06-01T05:00:00\", \"irradiance\": 0.0, \"missing\": false}, {\"timestamp\": \"2024-06-01T06:00:00\", \"irradiance\": 0.0, \"missing\": false}, {\"timestamp\": \"2024-06-01T07:00:00\", \"irradiance\": 121.0, \"missing\": false}, {\"timestamp\": \"2024-06-01T08:00:00\", \"irradiance\": 342.0, \"missing\": false}, {\"timestamp\": \"2024-06-01T09:00:00\", \"irradiance\": 751.0, \"missing\": false}, {\"timestamp\": \"2024-06-01T10:00:00\", \"irradiance\": 888.0, \"missing\": false}, {\"timestamp\": \"2024-06-01T11:00:00\", \"irradiance\": 972.0, \"missing\": false}, {\"timestamp\": \"2024-06-01T12:00:00\", \"irradiance\": 1000.0, \"missing\": false}, {\"timestamp\": \"2024-06-01T13:00:00\", \"irradiance\": 966.0, \"missing\": false}, {\"timestamp\": \"2024-06-01T14:00:00\", \"irradiance\": 850.0, \"missing\": false}, {\"timestamp\": \"2024-06-01T15:00:00\", \"irradiance\": 600.0, \"missing\": false}, {\"timestamp\": \"2024-06-01T16:00:00\", \"irradiance\": 543.0, \"missing\": false}, {\"timestamp\": \"2024-06-01T17:00:00\", \"irradiance\": 200.0, \"missing\": false}, {\"timestamp\": \"2024-06-01T18:00:00\", \"irradiance\": 18.0, \"missing\": false}, {\"timestamp\": \"2024-06-01T19:00:00\", \"irradiance\": 0.0, \"missing\": false}, {\"timestamp\": \"2024-06-01T20:00:00\", \"irradiance\": 0.0, \"missing\": false}, {\"timestamp\": \"2024-06-01T21:00:00\", \"irradiance\": 0.0, \"missing\": false}, {\"timestamp\": \"2024-06-01T22:00:00\", \"irradiance\": 0.0, \"missing\": false}, {\"timestamp\": \"2024-06-01T23:00:00\", \"irradiance\": 0.0, \"missing\": false}, {\"timestamp\": \"2024-06-02T00:00:00\", \"irradiance\": 0.0, \"missing\": false}, {\"timestamp\": \"2024-06-02T01:00:00\", \"irradiance\": 0.0, \"missing\": false}, {\"timestamp\": \"2024-06-02T02:00:00\", \"irradiance\": 0.0, \"missing\": false}, {\"timestamp\": \"2024-06-02T03:00:00\", \"irradiance\": 0.0, \"missing\": false}, {\"timestamp\": \"2024-06-02T04:00:00\", \"irradiance\": 0.0, \"missing\": false}, {\"timestamp\": \"2024-06-02T05:00:00\", \"irradiance\": 0.0, \"missing\": false}, {\"timestamp\": \"2024-06-02T06:00:00\", \"irradiance\": 0.0, \"missing\": false}, {\"timestamp\": \"2024-06-02T07:00:00\", \"irradiance\": 123.0, \"missing\": false}, {\"timestamp\": \"2024-06-02T08:00:00\", \"irradiance\": 345.0, \"missing\": false}, {\"timestamp\": \"2024-06-02T09:00:00\", \"irradiance\": 751.0, \"missing\": false}, {\"timestamp\": \"2024-06-02T10:00:00\", \"irradiance\": 804.25, \"missing\": true}, {\"timestamp\": \"2024-06-02T11:00:00\", \"irradiance\": 857.5, \"missing\": true}, {\"timestamp\": \"2024-06-02T12:00:00\", \"irradiance\": 910.75, \"missing\": true}, {\"timestamp\": \"2024-06-02T13:00:00\", \"irradiance\": 964.0, \"missing\": false}, {\"timestamp\": \"2024-06-02T14:00:00\", \"irradiance\": 851.0, \"missing\": false}, {\"timestamp\": \"2024-06-02T15:00:00\", \"irradiance\": 703.0, \"missing\": true}, {\"timestamp\": \"2024-06-02T16:00:00\", \"irradiance\": 555.0, \"missing\": false}, {\"timestamp\": \"2024-06-02T17:00:00\", \"irradiance\": 289.0, \"missing\": false}, {\"timestamp\": \"2024-06-02T18:00:00\", \"irradiance\": 25.0, \"missing\": false}, {\"timestamp\": \"2024-06-02T19:00:00\", \"irradiance\": 0.0, \"missing\": false}, {\"timestamp\": \"2024-06-02T20:00:00\", \"irradiance\": 0.0, \"missing\": false}, {\"timestamp\": \"2024-06-02T21:00:00\", \"irradiance\": 0.0, \"missing\": false}, {\"timestamp\": \"2024-06-02T22:00:00\", \"irradiance\": 0.0, \"missing\": false}, {\"timestamp\": \"2024-06-02T23:00:00\", \"irradiance\": 0.0, \"missing\": false}, {\"timestamp\": \"2024-06-03T00:00:00\", \"irradiance\": 0.0, \"missing\": true}, {\"timestamp\": \"2024-06-03T01:00:00\", \"irradiance\": 0.0, \"missing\": true}, {\"timestamp\": \"2024-06-03T02:00:00\", \"irradiance\": 0.0, \"missing\": true}, {\"timestamp\": \"2024-06-03T03:00:00\", \"irradiance\": 0.0, \"missing\": true}, {\"timestamp\": \"2024-06-03T04:00:00\", \"irradiance\": 0.0, \"missing\": true}, {\"timestamp\": \"2024-06-03T05:00:00\", \"irradiance\": 0.0, \"missing\": true}, {\"timestamp\": \"2024-06-03T06:00:00\", \"irradiance\": 0.0, \"missing\": false}, {\"timestamp\": \"2024-06-03T07:00:00\", \"irradiance\": 157.0, \"missing\": false}, {\"timestamp\": \"2024-06-03T08:00:00\", \"irradiance\": 458.0, \"missing\": false}, {\"timestamp\": \"2024-06-03T09:00:00\", \"irradiance\": 689.0, \"missing\": false}, {\"timestamp\": \"2024-06-03T10:00:00\", \"irradiance\": 867.0, \"missing\": false}, {\"timestamp\": \"2024-06-03T11:00:00\", \"irradiance\": 970.0, \"missing\": false}, {\"timestamp\": \"2024-06-03T12:00:00\", \"irradiance\": 977.0, \"missing\": false}, {\"timestamp\": \"2024-06-03T13:00:00\", \"irradiance\": 971.0, \"missing\": false}, {\"timestamp\": \"2024-06-03T14:00:00\", \"irradiance\": 786.0, \"missing\": false}, {\"timestamp\": \"2024-06-03T15:00:00\", \"irradiance\": 750.0, \"missing\": false}, {\"timestamp\": \"2024-06-03T16:00:00\", \"irradiance\": 555.0, \"missing\": false}, {\"timestamp\": \"2024-06-03T17:00:00\", \"irradiance\": 298.0, \"missing\": false}, {\"timestamp\": \"2024-06-03T18:00:00\", \"irradiance\": 0.0, \"missing\": false}]}}, {\"mode\": \"vega-lite\"});\n",
       "</script>"
      ],
      "text/plain": [
       "alt.LayerChart(...)"
      ]
     },
     "execution_count": 7,
     "metadata": {},
     "output_type": "execute_result"
    }
   ],
   "source": [
    "line = alt.Chart(df_interpolated.reset_index()).mark_line().encode(\n",
    "    x='timestamp:T',\n",
    "    y='irradiance:Q',\n",
    ")\n",
    "\n",
    "points = alt.Chart(df_interpolated.reset_index()).mark_point().encode(\n",
    "    x='timestamp:T',\n",
    "    y='irradiance:Q',\n",
    "    color=\"missing\",\n",
    ")\n",
    "\n",
    "points + line"
   ]
  },
  {
   "cell_type": "code",
   "execution_count": null,
   "id": "795f54ef-4e73-4081-a52a-39ca636d8d65",
   "metadata": {},
   "outputs": [],
   "source": []
  },
  {
   "cell_type": "code",
   "execution_count": null,
   "id": "c15b3a96-4378-4491-9880-fa0a56a8ea25",
   "metadata": {},
   "outputs": [],
   "source": []
  }
 ],
 "metadata": {
  "kernelspec": {
   "display_name": "Python 3 (ipykernel)",
   "language": "python",
   "name": "python3"
  },
  "language_info": {
   "codemirror_mode": {
    "name": "ipython",
    "version": 3
   },
   "file_extension": ".py",
   "mimetype": "text/x-python",
   "name": "python",
   "nbconvert_exporter": "python",
   "pygments_lexer": "ipython3",
   "version": "3.13.1"
  }
 },
 "nbformat": 4,
 "nbformat_minor": 5
}
