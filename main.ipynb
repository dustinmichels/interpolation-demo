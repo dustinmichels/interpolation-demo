{
 "cells": [
  {
   "cell_type": "code",
   "execution_count": 1,
   "id": "84d190c8-ce33-46f3-bf36-b3aa28a24d8b",
   "metadata": {},
   "outputs": [],
   "source": [
    "import pandas as pd\n",
    "import altair as alt"
   ]
  },
  {
   "cell_type": "code",
   "execution_count": 2,
   "id": "02547e6a-4cdc-4c5f-a0ac-2749cf6b994e",
   "metadata": {},
   "outputs": [
    {
     "data": {
      "text/plain": [
       "RendererRegistry.enable('mimetype')"
      ]
     },
     "execution_count": 2,
     "metadata": {},
     "output_type": "execute_result"
    }
   ],
   "source": [
    "alt.renderers.enable('mimetype')"
   ]
  },
  {
   "cell_type": "code",
   "execution_count": 3,
   "id": "405032fe-6bbe-4121-a114-fce6cb0cef44",
   "metadata": {},
   "outputs": [],
   "source": [
    "irradiance_df = pd.read_csv(\"data/irradiance.csv\")"
   ]
  },
  {
   "cell_type": "code",
   "execution_count": 4,
   "id": "c4029792-96a6-49db-9379-083718c6d4d2",
   "metadata": {},
   "outputs": [
    {
     "data": {
      "text/html": [
       "<div>\n",
       "<style scoped>\n",
       "    .dataframe tbody tr th:only-of-type {\n",
       "        vertical-align: middle;\n",
       "    }\n",
       "\n",
       "    .dataframe tbody tr th {\n",
       "        vertical-align: top;\n",
       "    }\n",
       "\n",
       "    .dataframe thead th {\n",
       "        text-align: right;\n",
       "    }\n",
       "</style>\n",
       "<table border=\"1\" class=\"dataframe\">\n",
       "  <thead>\n",
       "    <tr style=\"text-align: right;\">\n",
       "      <th></th>\n",
       "      <th>device_id</th>\n",
       "      <th>timestamp</th>\n",
       "      <th>irradiance</th>\n",
       "    </tr>\n",
       "  </thead>\n",
       "  <tbody>\n",
       "    <tr>\n",
       "      <th>0</th>\n",
       "      <td>9</td>\n",
       "      <td>2024-06-01 00:00:00</td>\n",
       "      <td>0</td>\n",
       "    </tr>\n",
       "    <tr>\n",
       "      <th>1</th>\n",
       "      <td>9</td>\n",
       "      <td>2024-06-01 01:00:00</td>\n",
       "      <td>0</td>\n",
       "    </tr>\n",
       "    <tr>\n",
       "      <th>2</th>\n",
       "      <td>9</td>\n",
       "      <td>2024-06-01 02:00:00</td>\n",
       "      <td>0</td>\n",
       "    </tr>\n",
       "    <tr>\n",
       "      <th>3</th>\n",
       "      <td>9</td>\n",
       "      <td>2024-06-01 03:00:00</td>\n",
       "      <td>0</td>\n",
       "    </tr>\n",
       "    <tr>\n",
       "      <th>4</th>\n",
       "      <td>9</td>\n",
       "      <td>2024-06-01 04:00:00</td>\n",
       "      <td>0</td>\n",
       "    </tr>\n",
       "  </tbody>\n",
       "</table>\n",
       "</div>"
      ],
      "text/plain": [
       "   device_id            timestamp  irradiance\n",
       "0          9  2024-06-01 00:00:00           0\n",
       "1          9  2024-06-01 01:00:00           0\n",
       "2          9  2024-06-01 02:00:00           0\n",
       "3          9  2024-06-01 03:00:00           0\n",
       "4          9  2024-06-01 04:00:00           0"
      ]
     },
     "execution_count": 4,
     "metadata": {},
     "output_type": "execute_result"
    }
   ],
   "source": [
    "# show first five rows\n",
    "irradiance_df.head()"
   ]
  },
  {
   "cell_type": "markdown",
   "id": "3d26e418-44a2-4687-af20-94e6d44af785",
   "metadata": {},
   "source": [
    "## Basic interpolation\n",
    "\n",
    "> See [pandas docs](https://pandas.pydata.org/pandas-docs/stable/reference/api/pandas.DataFrame.interpolate.html)"
   ]
  },
  {
   "cell_type": "markdown",
   "id": "4d0a5a63-4d85-4127-8fbc-32c9f9b0d1c2",
   "metadata": {},
   "source": [
    "### Reshape data for interpolation"
   ]
  },
  {
   "cell_type": "code",
   "execution_count": 5,
   "id": "05fafa8c-b48b-49bb-836c-ab1bc2533e70",
   "metadata": {},
   "outputs": [],
   "source": [
    "df = irradiance_df.copy()\n",
    "\n",
    "# ensure proper data type\n",
    "df['timestamp'] =  pd.to_datetime(df['timestamp'])\n",
    "\n",
    "# ensure we just have a single device, then drop device column\n",
    "df[df['device_id'] == 9]\n",
    "df = df[['timestamp', 'irradiance']]\n",
    "\n",
    "# set index to timestamp and \n",
    "df = df.set_index('timestamp').sort_index()\n",
    "\n",
    "# resample so we have one entry for every hour\n",
    "df_hourly = df.resample('1h').asfreq()\n",
    "\n",
    "# add column to indicate if data was missing\n",
    "df_hourly['missing'] = df_hourly['irradiance'].isna()"
   ]
  },
  {
   "cell_type": "code",
   "execution_count": 6,
   "id": "1c54c463-458d-4a2a-bb41-3276789549db",
   "metadata": {},
   "outputs": [
    {
     "data": {
      "text/html": [
       "<div>\n",
       "<style scoped>\n",
       "    .dataframe tbody tr th:only-of-type {\n",
       "        vertical-align: middle;\n",
       "    }\n",
       "\n",
       "    .dataframe tbody tr th {\n",
       "        vertical-align: top;\n",
       "    }\n",
       "\n",
       "    .dataframe thead th {\n",
       "        text-align: right;\n",
       "    }\n",
       "</style>\n",
       "<table border=\"1\" class=\"dataframe\">\n",
       "  <thead>\n",
       "    <tr style=\"text-align: right;\">\n",
       "      <th></th>\n",
       "      <th>irradiance</th>\n",
       "      <th>missing</th>\n",
       "    </tr>\n",
       "    <tr>\n",
       "      <th>timestamp</th>\n",
       "      <th></th>\n",
       "      <th></th>\n",
       "    </tr>\n",
       "  </thead>\n",
       "  <tbody>\n",
       "    <tr>\n",
       "      <th>2024-06-02 11:00:00</th>\n",
       "      <td>NaN</td>\n",
       "      <td>True</td>\n",
       "    </tr>\n",
       "    <tr>\n",
       "      <th>2024-06-02 12:00:00</th>\n",
       "      <td>NaN</td>\n",
       "      <td>True</td>\n",
       "    </tr>\n",
       "    <tr>\n",
       "      <th>2024-06-02 13:00:00</th>\n",
       "      <td>964.0</td>\n",
       "      <td>False</td>\n",
       "    </tr>\n",
       "    <tr>\n",
       "      <th>2024-06-02 14:00:00</th>\n",
       "      <td>851.0</td>\n",
       "      <td>False</td>\n",
       "    </tr>\n",
       "    <tr>\n",
       "      <th>2024-06-02 15:00:00</th>\n",
       "      <td>NaN</td>\n",
       "      <td>True</td>\n",
       "    </tr>\n",
       "  </tbody>\n",
       "</table>\n",
       "</div>"
      ],
      "text/plain": [
       "                     irradiance  missing\n",
       "timestamp                               \n",
       "2024-06-02 11:00:00         NaN     True\n",
       "2024-06-02 12:00:00         NaN     True\n",
       "2024-06-02 13:00:00       964.0    False\n",
       "2024-06-02 14:00:00       851.0    False\n",
       "2024-06-02 15:00:00         NaN     True"
      ]
     },
     "execution_count": 6,
     "metadata": {},
     "output_type": "execute_result"
    }
   ],
   "source": [
    "# preview some rows\n",
    "df_hourly.iloc[35:40]"
   ]
  },
  {
   "cell_type": "markdown",
   "id": "595a6e64-d6f9-4e0e-8639-8362b4af59ff",
   "metadata": {},
   "source": [
    "### Run interpolation function"
   ]
  },
  {
   "cell_type": "code",
   "execution_count": 7,
   "id": "f9ed267f-6a84-4e87-a6a9-576174e059ae",
   "metadata": {},
   "outputs": [
    {
     "data": {
      "text/html": [
       "<div>\n",
       "<style scoped>\n",
       "    .dataframe tbody tr th:only-of-type {\n",
       "        vertical-align: middle;\n",
       "    }\n",
       "\n",
       "    .dataframe tbody tr th {\n",
       "        vertical-align: top;\n",
       "    }\n",
       "\n",
       "    .dataframe thead th {\n",
       "        text-align: right;\n",
       "    }\n",
       "</style>\n",
       "<table border=\"1\" class=\"dataframe\">\n",
       "  <thead>\n",
       "    <tr style=\"text-align: right;\">\n",
       "      <th></th>\n",
       "      <th>irradiance</th>\n",
       "      <th>missing</th>\n",
       "    </tr>\n",
       "    <tr>\n",
       "      <th>timestamp</th>\n",
       "      <th></th>\n",
       "      <th></th>\n",
       "    </tr>\n",
       "  </thead>\n",
       "  <tbody>\n",
       "    <tr>\n",
       "      <th>2024-06-02 11:00:00</th>\n",
       "      <td>857.50</td>\n",
       "      <td>True</td>\n",
       "    </tr>\n",
       "    <tr>\n",
       "      <th>2024-06-02 12:00:00</th>\n",
       "      <td>910.75</td>\n",
       "      <td>True</td>\n",
       "    </tr>\n",
       "    <tr>\n",
       "      <th>2024-06-02 13:00:00</th>\n",
       "      <td>964.00</td>\n",
       "      <td>False</td>\n",
       "    </tr>\n",
       "    <tr>\n",
       "      <th>2024-06-02 14:00:00</th>\n",
       "      <td>851.00</td>\n",
       "      <td>False</td>\n",
       "    </tr>\n",
       "    <tr>\n",
       "      <th>2024-06-02 15:00:00</th>\n",
       "      <td>703.00</td>\n",
       "      <td>True</td>\n",
       "    </tr>\n",
       "  </tbody>\n",
       "</table>\n",
       "</div>"
      ],
      "text/plain": [
       "                     irradiance  missing\n",
       "timestamp                               \n",
       "2024-06-02 11:00:00      857.50     True\n",
       "2024-06-02 12:00:00      910.75     True\n",
       "2024-06-02 13:00:00      964.00    False\n",
       "2024-06-02 14:00:00      851.00    False\n",
       "2024-06-02 15:00:00      703.00     True"
      ]
     },
     "execution_count": 7,
     "metadata": {},
     "output_type": "execute_result"
    }
   ],
   "source": [
    "df_interpolated = df_hourly.interpolate(method='time')\n",
    "df_interpolated.iloc[35:40]"
   ]
  },
  {
   "cell_type": "markdown",
   "id": "95127314-3427-4011-b93a-d66cc9b5a744",
   "metadata": {},
   "source": [
    "### Make plot"
   ]
  },
  {
   "cell_type": "markdown",
   "id": "81951ddb-cc90-4c41-80af-5ec77b6f33f9",
   "metadata": {},
   "source": [
    "#### Quick plot"
   ]
  },
  {
   "cell_type": "code",
   "execution_count": 8,
   "id": "cf3e086f-62a7-45ca-91b8-2ac846b4869a",
   "metadata": {},
   "outputs": [
    {
     "data": {
      "application/vnd.vegalite.v5+json": {
       "$schema": "https://vega.github.io/schema/vega-lite/v5.20.1.json",
       "config": {
        "view": {
         "continuousHeight": 300,
         "continuousWidth": 300
        }
       },
       "datasets": {
        "data-cbff6478369e492a050d5e2dfa05733b": [
         {
          "irradiance": 0,
          "missing": false,
          "timestamp": "2024-06-01T00:00:00"
         },
         {
          "irradiance": 0,
          "missing": false,
          "timestamp": "2024-06-01T01:00:00"
         },
         {
          "irradiance": 0,
          "missing": false,
          "timestamp": "2024-06-01T02:00:00"
         },
         {
          "irradiance": 0,
          "missing": false,
          "timestamp": "2024-06-01T03:00:00"
         },
         {
          "irradiance": 0,
          "missing": false,
          "timestamp": "2024-06-01T04:00:00"
         },
         {
          "irradiance": 0,
          "missing": false,
          "timestamp": "2024-06-01T05:00:00"
         },
         {
          "irradiance": 0,
          "missing": false,
          "timestamp": "2024-06-01T06:00:00"
         },
         {
          "irradiance": 121,
          "missing": false,
          "timestamp": "2024-06-01T07:00:00"
         },
         {
          "irradiance": 342,
          "missing": false,
          "timestamp": "2024-06-01T08:00:00"
         },
         {
          "irradiance": 751,
          "missing": false,
          "timestamp": "2024-06-01T09:00:00"
         },
         {
          "irradiance": 888,
          "missing": false,
          "timestamp": "2024-06-01T10:00:00"
         },
         {
          "irradiance": 972,
          "missing": false,
          "timestamp": "2024-06-01T11:00:00"
         },
         {
          "irradiance": 1000,
          "missing": false,
          "timestamp": "2024-06-01T12:00:00"
         },
         {
          "irradiance": 966,
          "missing": false,
          "timestamp": "2024-06-01T13:00:00"
         },
         {
          "irradiance": 850,
          "missing": false,
          "timestamp": "2024-06-01T14:00:00"
         },
         {
          "irradiance": 600,
          "missing": false,
          "timestamp": "2024-06-01T15:00:00"
         },
         {
          "irradiance": 543,
          "missing": false,
          "timestamp": "2024-06-01T16:00:00"
         },
         {
          "irradiance": 200,
          "missing": false,
          "timestamp": "2024-06-01T17:00:00"
         },
         {
          "irradiance": 18,
          "missing": false,
          "timestamp": "2024-06-01T18:00:00"
         },
         {
          "irradiance": 0,
          "missing": false,
          "timestamp": "2024-06-01T19:00:00"
         },
         {
          "irradiance": 0,
          "missing": false,
          "timestamp": "2024-06-01T20:00:00"
         },
         {
          "irradiance": 0,
          "missing": false,
          "timestamp": "2024-06-01T21:00:00"
         },
         {
          "irradiance": 0,
          "missing": false,
          "timestamp": "2024-06-01T22:00:00"
         },
         {
          "irradiance": 0,
          "missing": false,
          "timestamp": "2024-06-01T23:00:00"
         },
         {
          "irradiance": 0,
          "missing": false,
          "timestamp": "2024-06-02T00:00:00"
         },
         {
          "irradiance": 0,
          "missing": false,
          "timestamp": "2024-06-02T01:00:00"
         },
         {
          "irradiance": 0,
          "missing": false,
          "timestamp": "2024-06-02T02:00:00"
         },
         {
          "irradiance": 0,
          "missing": false,
          "timestamp": "2024-06-02T03:00:00"
         },
         {
          "irradiance": 0,
          "missing": false,
          "timestamp": "2024-06-02T04:00:00"
         },
         {
          "irradiance": 0,
          "missing": false,
          "timestamp": "2024-06-02T05:00:00"
         },
         {
          "irradiance": 0,
          "missing": false,
          "timestamp": "2024-06-02T06:00:00"
         },
         {
          "irradiance": 123,
          "missing": false,
          "timestamp": "2024-06-02T07:00:00"
         },
         {
          "irradiance": 345,
          "missing": false,
          "timestamp": "2024-06-02T08:00:00"
         },
         {
          "irradiance": 751,
          "missing": false,
          "timestamp": "2024-06-02T09:00:00"
         },
         {
          "irradiance": 804.25,
          "missing": true,
          "timestamp": "2024-06-02T10:00:00"
         },
         {
          "irradiance": 857.5,
          "missing": true,
          "timestamp": "2024-06-02T11:00:00"
         },
         {
          "irradiance": 910.75,
          "missing": true,
          "timestamp": "2024-06-02T12:00:00"
         },
         {
          "irradiance": 964,
          "missing": false,
          "timestamp": "2024-06-02T13:00:00"
         },
         {
          "irradiance": 851,
          "missing": false,
          "timestamp": "2024-06-02T14:00:00"
         },
         {
          "irradiance": 703,
          "missing": true,
          "timestamp": "2024-06-02T15:00:00"
         },
         {
          "irradiance": 555,
          "missing": false,
          "timestamp": "2024-06-02T16:00:00"
         },
         {
          "irradiance": 289,
          "missing": false,
          "timestamp": "2024-06-02T17:00:00"
         },
         {
          "irradiance": 25,
          "missing": false,
          "timestamp": "2024-06-02T18:00:00"
         },
         {
          "irradiance": 0,
          "missing": false,
          "timestamp": "2024-06-02T19:00:00"
         },
         {
          "irradiance": 0,
          "missing": false,
          "timestamp": "2024-06-02T20:00:00"
         },
         {
          "irradiance": 0,
          "missing": false,
          "timestamp": "2024-06-02T21:00:00"
         },
         {
          "irradiance": 0,
          "missing": false,
          "timestamp": "2024-06-02T22:00:00"
         },
         {
          "irradiance": 0,
          "missing": false,
          "timestamp": "2024-06-02T23:00:00"
         },
         {
          "irradiance": 0,
          "missing": true,
          "timestamp": "2024-06-03T00:00:00"
         },
         {
          "irradiance": 0,
          "missing": true,
          "timestamp": "2024-06-03T01:00:00"
         },
         {
          "irradiance": 0,
          "missing": true,
          "timestamp": "2024-06-03T02:00:00"
         },
         {
          "irradiance": 0,
          "missing": true,
          "timestamp": "2024-06-03T03:00:00"
         },
         {
          "irradiance": 0,
          "missing": true,
          "timestamp": "2024-06-03T04:00:00"
         },
         {
          "irradiance": 0,
          "missing": true,
          "timestamp": "2024-06-03T05:00:00"
         },
         {
          "irradiance": 0,
          "missing": false,
          "timestamp": "2024-06-03T06:00:00"
         },
         {
          "irradiance": 157,
          "missing": false,
          "timestamp": "2024-06-03T07:00:00"
         },
         {
          "irradiance": 458,
          "missing": false,
          "timestamp": "2024-06-03T08:00:00"
         },
         {
          "irradiance": 689,
          "missing": false,
          "timestamp": "2024-06-03T09:00:00"
         },
         {
          "irradiance": 867,
          "missing": false,
          "timestamp": "2024-06-03T10:00:00"
         },
         {
          "irradiance": 970,
          "missing": false,
          "timestamp": "2024-06-03T11:00:00"
         },
         {
          "irradiance": 977,
          "missing": false,
          "timestamp": "2024-06-03T12:00:00"
         },
         {
          "irradiance": 971,
          "missing": false,
          "timestamp": "2024-06-03T13:00:00"
         },
         {
          "irradiance": 786,
          "missing": false,
          "timestamp": "2024-06-03T14:00:00"
         },
         {
          "irradiance": 750,
          "missing": false,
          "timestamp": "2024-06-03T15:00:00"
         },
         {
          "irradiance": 555,
          "missing": false,
          "timestamp": "2024-06-03T16:00:00"
         },
         {
          "irradiance": 298,
          "missing": false,
          "timestamp": "2024-06-03T17:00:00"
         },
         {
          "irradiance": 0,
          "missing": false,
          "timestamp": "2024-06-03T18:00:00"
         }
        ]
       },
       "layer": [
        {
         "data": {
          "name": "data-cbff6478369e492a050d5e2dfa05733b"
         },
         "encoding": {
          "color": {
           "field": "missing",
           "type": "nominal"
          },
          "x": {
           "field": "timestamp",
           "type": "temporal"
          },
          "y": {
           "field": "irradiance",
           "type": "quantitative"
          }
         },
         "mark": {
          "type": "point"
         }
        },
        {
         "data": {
          "name": "data-cbff6478369e492a050d5e2dfa05733b"
         },
         "encoding": {
          "x": {
           "field": "timestamp",
           "type": "temporal"
          },
          "y": {
           "field": "irradiance",
           "type": "quantitative"
          }
         },
         "mark": {
          "type": "line"
         }
        }
       ]
      },
      "image/png": "[encoded data removed]",
      "text/plain": [
       "<VegaLite 5 object>\n",
       "\n",
       "If you see this message, it means the renderer has not been properly enabled\n",
       "for the frontend that you are using. For more information, see\n",
       "https://altair-viz.github.io/user_guide/display_frontends.html#troubleshooting\n"
      ]
     },
     "execution_count": 8,
     "metadata": {},
     "output_type": "execute_result"
    }
   ],
   "source": [
    "line = alt.Chart(df_interpolated.reset_index()).mark_line().encode(\n",
    "    x='timestamp:T',\n",
    "    y='irradiance:Q',\n",
    ")\n",
    "\n",
    "points = alt.Chart(df_interpolated.reset_index()).mark_point().encode(\n",
    "    x='timestamp:T',\n",
    "    y='irradiance:Q',\n",
    "    color=\"missing\",\n",
    ")\n",
    "\n",
    "points + line"
   ]
  },
  {
   "cell_type": "markdown",
   "id": "f67dd567-9146-471f-8dfb-954748c15ced",
   "metadata": {},
   "source": [
    "#### Fancy plot"
   ]
  },
  {
   "cell_type": "code",
   "execution_count": 9,
   "id": "15ff0f19-0e7a-483d-80c9-d73276996665",
   "metadata": {},
   "outputs": [
    {
     "data": {
      "application/vnd.vegalite.v5+json": {
       "$schema": "https://vega.github.io/schema/vega-lite/v5.20.1.json",
       "config": {
        "axis": {
         "grid": false,
         "labelFontSize": 12,
         "titleFontSize": 14,
         "titlePadding": 15
        },
        "title": {
         "fontSize": 20
        },
        "view": {
         "continuousHeight": 300,
         "continuousWidth": 300,
         "strokeWidth": 0
        }
       },
       "data": {
        "name": "data-cbff6478369e492a050d5e2dfa05733b"
       },
       "datasets": {
        "data-cbff6478369e492a050d5e2dfa05733b": [
         {
          "irradiance": 0,
          "missing": false,
          "timestamp": "2024-06-01T00:00:00"
         },
         {
          "irradiance": 0,
          "missing": false,
          "timestamp": "2024-06-01T01:00:00"
         },
         {
          "irradiance": 0,
          "missing": false,
          "timestamp": "2024-06-01T02:00:00"
         },
         {
          "irradiance": 0,
          "missing": false,
          "timestamp": "2024-06-01T03:00:00"
         },
         {
          "irradiance": 0,
          "missing": false,
          "timestamp": "2024-06-01T04:00:00"
         },
         {
          "irradiance": 0,
          "missing": false,
          "timestamp": "2024-06-01T05:00:00"
         },
         {
          "irradiance": 0,
          "missing": false,
          "timestamp": "2024-06-01T06:00:00"
         },
         {
          "irradiance": 121,
          "missing": false,
          "timestamp": "2024-06-01T07:00:00"
         },
         {
          "irradiance": 342,
          "missing": false,
          "timestamp": "2024-06-01T08:00:00"
         },
         {
          "irradiance": 751,
          "missing": false,
          "timestamp": "2024-06-01T09:00:00"
         },
         {
          "irradiance": 888,
          "missing": false,
          "timestamp": "2024-06-01T10:00:00"
         },
         {
          "irradiance": 972,
          "missing": false,
          "timestamp": "2024-06-01T11:00:00"
         },
         {
          "irradiance": 1000,
          "missing": false,
          "timestamp": "2024-06-01T12:00:00"
         },
         {
          "irradiance": 966,
          "missing": false,
          "timestamp": "2024-06-01T13:00:00"
         },
         {
          "irradiance": 850,
          "missing": false,
          "timestamp": "2024-06-01T14:00:00"
         },
         {
          "irradiance": 600,
          "missing": false,
          "timestamp": "2024-06-01T15:00:00"
         },
         {
          "irradiance": 543,
          "missing": false,
          "timestamp": "2024-06-01T16:00:00"
         },
         {
          "irradiance": 200,
          "missing": false,
          "timestamp": "2024-06-01T17:00:00"
         },
         {
          "irradiance": 18,
          "missing": false,
          "timestamp": "2024-06-01T18:00:00"
         },
         {
          "irradiance": 0,
          "missing": false,
          "timestamp": "2024-06-01T19:00:00"
         },
         {
          "irradiance": 0,
          "missing": false,
          "timestamp": "2024-06-01T20:00:00"
         },
         {
          "irradiance": 0,
          "missing": false,
          "timestamp": "2024-06-01T21:00:00"
         },
         {
          "irradiance": 0,
          "missing": false,
          "timestamp": "2024-06-01T22:00:00"
         },
         {
          "irradiance": 0,
          "missing": false,
          "timestamp": "2024-06-01T23:00:00"
         },
         {
          "irradiance": 0,
          "missing": false,
          "timestamp": "2024-06-02T00:00:00"
         },
         {
          "irradiance": 0,
          "missing": false,
          "timestamp": "2024-06-02T01:00:00"
         },
         {
          "irradiance": 0,
          "missing": false,
          "timestamp": "2024-06-02T02:00:00"
         },
         {
          "irradiance": 0,
          "missing": false,
          "timestamp": "2024-06-02T03:00:00"
         },
         {
          "irradiance": 0,
          "missing": false,
          "timestamp": "2024-06-02T04:00:00"
         },
         {
          "irradiance": 0,
          "missing": false,
          "timestamp": "2024-06-02T05:00:00"
         },
         {
          "irradiance": 0,
          "missing": false,
          "timestamp": "2024-06-02T06:00:00"
         },
         {
          "irradiance": 123,
          "missing": false,
          "timestamp": "2024-06-02T07:00:00"
         },
         {
          "irradiance": 345,
          "missing": false,
          "timestamp": "2024-06-02T08:00:00"
         },
         {
          "irradiance": 751,
          "missing": false,
          "timestamp": "2024-06-02T09:00:00"
         },
         {
          "irradiance": 804.25,
          "missing": true,
          "timestamp": "2024-06-02T10:00:00"
         },
         {
          "irradiance": 857.5,
          "missing": true,
          "timestamp": "2024-06-02T11:00:00"
         },
         {
          "irradiance": 910.75,
          "missing": true,
          "timestamp": "2024-06-02T12:00:00"
         },
         {
          "irradiance": 964,
          "missing": false,
          "timestamp": "2024-06-02T13:00:00"
         },
         {
          "irradiance": 851,
          "missing": false,
          "timestamp": "2024-06-02T14:00:00"
         },
         {
          "irradiance": 703,
          "missing": true,
          "timestamp": "2024-06-02T15:00:00"
         },
         {
          "irradiance": 555,
          "missing": false,
          "timestamp": "2024-06-02T16:00:00"
         },
         {
          "irradiance": 289,
          "missing": false,
          "timestamp": "2024-06-02T17:00:00"
         },
         {
          "irradiance": 25,
          "missing": false,
          "timestamp": "2024-06-02T18:00:00"
         },
         {
          "irradiance": 0,
          "missing": false,
          "timestamp": "2024-06-02T19:00:00"
         },
         {
          "irradiance": 0,
          "missing": false,
          "timestamp": "2024-06-02T20:00:00"
         },
         {
          "irradiance": 0,
          "missing": false,
          "timestamp": "2024-06-02T21:00:00"
         },
         {
          "irradiance": 0,
          "missing": false,
          "timestamp": "2024-06-02T22:00:00"
         },
         {
          "irradiance": 0,
          "missing": false,
          "timestamp": "2024-06-02T23:00:00"
         },
         {
          "irradiance": 0,
          "missing": true,
          "timestamp": "2024-06-03T00:00:00"
         },
         {
          "irradiance": 0,
          "missing": true,
          "timestamp": "2024-06-03T01:00:00"
         },
         {
          "irradiance": 0,
          "missing": true,
          "timestamp": "2024-06-03T02:00:00"
         },
         {
          "irradiance": 0,
          "missing": true,
          "timestamp": "2024-06-03T03:00:00"
         },
         {
          "irradiance": 0,
          "missing": true,
          "timestamp": "2024-06-03T04:00:00"
         },
         {
          "irradiance": 0,
          "missing": true,
          "timestamp": "2024-06-03T05:00:00"
         },
         {
          "irradiance": 0,
          "missing": false,
          "timestamp": "2024-06-03T06:00:00"
         },
         {
          "irradiance": 157,
          "missing": false,
          "timestamp": "2024-06-03T07:00:00"
         },
         {
          "irradiance": 458,
          "missing": false,
          "timestamp": "2024-06-03T08:00:00"
         },
         {
          "irradiance": 689,
          "missing": false,
          "timestamp": "2024-06-03T09:00:00"
         },
         {
          "irradiance": 867,
          "missing": false,
          "timestamp": "2024-06-03T10:00:00"
         },
         {
          "irradiance": 970,
          "missing": false,
          "timestamp": "2024-06-03T11:00:00"
         },
         {
          "irradiance": 977,
          "missing": false,
          "timestamp": "2024-06-03T12:00:00"
         },
         {
          "irradiance": 971,
          "missing": false,
          "timestamp": "2024-06-03T13:00:00"
         },
         {
          "irradiance": 786,
          "missing": false,
          "timestamp": "2024-06-03T14:00:00"
         },
         {
          "irradiance": 750,
          "missing": false,
          "timestamp": "2024-06-03T15:00:00"
         },
         {
          "irradiance": 555,
          "missing": false,
          "timestamp": "2024-06-03T16:00:00"
         },
         {
          "irradiance": 298,
          "missing": false,
          "timestamp": "2024-06-03T17:00:00"
         },
         {
          "irradiance": 0,
          "missing": false,
          "timestamp": "2024-06-03T18:00:00"
         }
        ]
       },
       "encoding": {
        "color": {
         "field": "missing",
         "legend": {
          "title": "Interpolated Data"
         },
         "type": "nominal"
        },
        "x": {
         "axis": {
          "format": "%H:%M",
          "grid": false,
          "labelAngle": -45
         },
         "field": "timestamp",
         "title": "Time",
         "type": "temporal"
        },
        "y": {
         "field": "irradiance",
         "title": "Irradiance (W/m²)",
         "type": "quantitative"
        }
       },
       "height": 400,
       "mark": {
        "cornerRadiusTopLeft": 3,
        "cornerRadiusTopRight": 3,
        "type": "bar",
        "width": 10
       },
       "title": {
        "anchor": "start",
        "fontSize": 20,
        "subtitle": "Hourly readings with interpolated values",
        "subtitleFontSize": 14,
        "text": "Solar Irradiance Measurements"
       },
       "width": 700
      },
      "image/png": "[encoded data removed]",
      "text/plain": [
       "<VegaLite 5 object>\n",
       "\n",
       "If you see this message, it means the renderer has not been properly enabled\n",
       "for the frontend that you are using. For more information, see\n",
       "https://altair-viz.github.io/user_guide/display_frontends.html#troubleshooting\n"
      ]
     },
     "execution_count": 9,
     "metadata": {},
     "output_type": "execute_result"
    }
   ],
   "source": [
    "alt.Chart(df_interpolated.reset_index()).mark_bar(\n",
    "    cornerRadiusTopLeft=3, cornerRadiusTopRight=3, width=10\n",
    ").encode(\n",
    "    x=alt.X(\n",
    "        \"timestamp:T\",\n",
    "        title=\"Time\",\n",
    "        axis=alt.Axis(labelAngle=-45, format=\"%H:%M\", grid=False),\n",
    "    ),\n",
    "    y=alt.Y(\"irradiance:Q\", title=\"Irradiance (W/m²)\"),\n",
    "    color=alt.Color(\n",
    "        \"missing:N\",\n",
    "        legend=alt.Legend(title=\"Interpolated Data\"),\n",
    "    ),\n",
    ").properties(\n",
    "    width=700,\n",
    "    height=400,\n",
    "    title={\n",
    "        \"text\": \"Solar Irradiance Measurements\",\n",
    "        \"subtitle\": \"Hourly readings with interpolated values\",\n",
    "        \"fontSize\": 20,\n",
    "        \"subtitleFontSize\": 14,\n",
    "        \"anchor\": \"start\",\n",
    "    },\n",
    ").configure_view(\n",
    "    strokeWidth=0\n",
    ").configure_axis(\n",
    "    labelFontSize=12, titleFontSize=14, titlePadding=15, grid=False\n",
    ").configure_title(\n",
    "    fontSize=20\n",
    ")"
   ]
  },
  {
   "cell_type": "markdown",
   "id": "d426e336-8ae7-4e4d-b725-2d7f6e237d59",
   "metadata": {},
   "source": [
    "### Sum irradiance\n",
    "\n",
    "Sum the irradiance values for each day"
   ]
  },
  {
   "cell_type": "code",
   "execution_count": 10,
   "id": "94d4d8a7-cc44-425d-9cee-62dc14d7ecdc",
   "metadata": {},
   "outputs": [
    {
     "data": {
      "text/html": [
       "<div>\n",
       "<style scoped>\n",
       "    .dataframe tbody tr th:only-of-type {\n",
       "        vertical-align: middle;\n",
       "    }\n",
       "\n",
       "    .dataframe tbody tr th {\n",
       "        vertical-align: top;\n",
       "    }\n",
       "\n",
       "    .dataframe thead th {\n",
       "        text-align: right;\n",
       "    }\n",
       "</style>\n",
       "<table border=\"1\" class=\"dataframe\">\n",
       "  <thead>\n",
       "    <tr style=\"text-align: right;\">\n",
       "      <th></th>\n",
       "      <th>irradiance</th>\n",
       "    </tr>\n",
       "    <tr>\n",
       "      <th>timestamp</th>\n",
       "      <th></th>\n",
       "    </tr>\n",
       "  </thead>\n",
       "  <tbody>\n",
       "    <tr>\n",
       "      <th>2024-06-01</th>\n",
       "      <td>7251.0</td>\n",
       "    </tr>\n",
       "    <tr>\n",
       "      <th>2024-06-02</th>\n",
       "      <td>7178.5</td>\n",
       "    </tr>\n",
       "    <tr>\n",
       "      <th>2024-06-03</th>\n",
       "      <td>7478.0</td>\n",
       "    </tr>\n",
       "  </tbody>\n",
       "</table>\n",
       "</div>"
      ],
      "text/plain": [
       "            irradiance\n",
       "timestamp             \n",
       "2024-06-01      7251.0\n",
       "2024-06-02      7178.5\n",
       "2024-06-03      7478.0"
      ]
     },
     "execution_count": 10,
     "metadata": {},
     "output_type": "execute_result"
    }
   ],
   "source": [
    "daily_sums = df_interpolated.resample('D')['irradiance'].sum()\n",
    "pd.DataFrame(daily_sums)"
   ]
  },
  {
   "cell_type": "code",
   "execution_count": null,
   "id": "f94b6da3-3ce8-4e83-bef6-31e5ce2dab9f",
   "metadata": {},
   "outputs": [],
   "source": []
  },
  {
   "cell_type": "code",
   "execution_count": null,
   "id": "6594fe21-850e-4522-91bc-25ca857bae8c",
   "metadata": {},
   "outputs": [],
   "source": []
  }
 ],
 "metadata": {
  "kernelspec": {
   "display_name": "Python 3 (ipykernel)",
   "language": "python",
   "name": "python3"
  },
  "language_info": {
   "codemirror_mode": {
    "name": "ipython",
    "version": 3
   },
   "file_extension": ".py",
   "mimetype": "text/x-python",
   "name": "python",
   "nbconvert_exporter": "python",
   "pygments_lexer": "ipython3",
   "version": "3.13.1"
  }
 },
 "nbformat": 4,
 "nbformat_minor": 5
}
