{
 "cells": [
  {
   "cell_type": "markdown",
   "id": "f3721a07-4670-4565-b14f-8788b293e464",
   "metadata": {},
   "source": [
    "# Interpolation (Version 2)"
   ]
  },
  {
   "cell_type": "code",
   "execution_count": 1,
   "id": "84d190c8-ce33-46f3-bf36-b3aa28a24d8b",
   "metadata": {},
   "outputs": [],
   "source": [
    "import pandas as pd\n",
    "import altair as alt\n",
    "\n",
    "# set altair to fallback to rendering png\n",
    "alt.renderers.enable('mimetype');"
   ]
  },
  {
   "cell_type": "markdown",
   "id": "0a216770-6139-44a2-8a64-521a4028e921",
   "metadata": {},
   "source": [
    "## Load Data"
   ]
  },
  {
   "cell_type": "code",
   "execution_count": 2,
   "id": "405032fe-6bbe-4121-a114-fce6cb0cef44",
   "metadata": {},
   "outputs": [],
   "source": [
    "# load data from csv\n",
    "irradiance_df = pd.read_csv(\"data/irradiance.csv\")"
   ]
  },
  {
   "cell_type": "code",
   "execution_count": 3,
   "id": "c4029792-96a6-49db-9379-083718c6d4d2",
   "metadata": {},
   "outputs": [
    {
     "data": {
      "text/html": [
       "<div>\n",
       "<style scoped>\n",
       "    .dataframe tbody tr th:only-of-type {\n",
       "        vertical-align: middle;\n",
       "    }\n",
       "\n",
       "    .dataframe tbody tr th {\n",
       "        vertical-align: top;\n",
       "    }\n",
       "\n",
       "    .dataframe thead th {\n",
       "        text-align: right;\n",
       "    }\n",
       "</style>\n",
       "<table border=\"1\" class=\"dataframe\">\n",
       "  <thead>\n",
       "    <tr style=\"text-align: right;\">\n",
       "      <th></th>\n",
       "      <th>device_id</th>\n",
       "      <th>timestamp</th>\n",
       "      <th>irradiance</th>\n",
       "    </tr>\n",
       "  </thead>\n",
       "  <tbody>\n",
       "    <tr>\n",
       "      <th>0</th>\n",
       "      <td>9</td>\n",
       "      <td>2024-06-01 00:00:00</td>\n",
       "      <td>0</td>\n",
       "    </tr>\n",
       "    <tr>\n",
       "      <th>1</th>\n",
       "      <td>9</td>\n",
       "      <td>2024-06-01 01:00:00</td>\n",
       "      <td>0</td>\n",
       "    </tr>\n",
       "    <tr>\n",
       "      <th>2</th>\n",
       "      <td>9</td>\n",
       "      <td>2024-06-01 02:00:00</td>\n",
       "      <td>0</td>\n",
       "    </tr>\n",
       "    <tr>\n",
       "      <th>3</th>\n",
       "      <td>9</td>\n",
       "      <td>2024-06-01 03:00:00</td>\n",
       "      <td>0</td>\n",
       "    </tr>\n",
       "    <tr>\n",
       "      <th>4</th>\n",
       "      <td>9</td>\n",
       "      <td>2024-06-01 04:00:00</td>\n",
       "      <td>0</td>\n",
       "    </tr>\n",
       "  </tbody>\n",
       "</table>\n",
       "</div>"
      ],
      "text/plain": [
       "   device_id            timestamp  irradiance\n",
       "0          9  2024-06-01 00:00:00           0\n",
       "1          9  2024-06-01 01:00:00           0\n",
       "2          9  2024-06-01 02:00:00           0\n",
       "3          9  2024-06-01 03:00:00           0\n",
       "4          9  2024-06-01 04:00:00           0"
      ]
     },
     "execution_count": 3,
     "metadata": {},
     "output_type": "execute_result"
    }
   ],
   "source": [
    "# show first five rows\n",
    "irradiance_df.head()"
   ]
  },
  {
   "cell_type": "markdown",
   "id": "4d0a5a63-4d85-4127-8fbc-32c9f9b0d1c2",
   "metadata": {},
   "source": [
    "## Reshape data"
   ]
  },
  {
   "cell_type": "code",
   "execution_count": 4,
   "id": "253b345c-e5b7-47da-86a7-b38cbc028b00",
   "metadata": {},
   "outputs": [],
   "source": [
    "# make a copy\n",
    "df = irradiance_df.copy()\n",
    "\n",
    "# ensure proper data type\n",
    "df['timestamp'] =  pd.to_datetime(df['timestamp'])\n",
    "\n",
    "# ensure we just have a single device, then drop device column\n",
    "df[df['device_id'] == 9]\n",
    "df = df[['timestamp', 'irradiance']]\n",
    "\n",
    "# set index to timestamp and sort index\n",
    "df = df.set_index('timestamp').sort_index()\n",
    "\n",
    "# resample so we have one entry for every hour\n",
    "df_hourly = df.resample('1h').asfreq()\n",
    "\n",
    "# add column to indicate if data was missing\n",
    "df_hourly['missing'] = df_hourly['irradiance'].isna()"
   ]
  },
  {
   "cell_type": "code",
   "execution_count": 5,
   "id": "625cadbc-9167-4018-8ade-b56fd941388e",
   "metadata": {},
   "outputs": [
    {
     "data": {
      "text/html": [
       "<div>\n",
       "<style scoped>\n",
       "    .dataframe tbody tr th:only-of-type {\n",
       "        vertical-align: middle;\n",
       "    }\n",
       "\n",
       "    .dataframe tbody tr th {\n",
       "        vertical-align: top;\n",
       "    }\n",
       "\n",
       "    .dataframe thead th {\n",
       "        text-align: right;\n",
       "    }\n",
       "</style>\n",
       "<table border=\"1\" class=\"dataframe\">\n",
       "  <thead>\n",
       "    <tr style=\"text-align: right;\">\n",
       "      <th></th>\n",
       "      <th>irradiance</th>\n",
       "      <th>missing</th>\n",
       "    </tr>\n",
       "    <tr>\n",
       "      <th>timestamp</th>\n",
       "      <th></th>\n",
       "      <th></th>\n",
       "    </tr>\n",
       "  </thead>\n",
       "  <tbody>\n",
       "    <tr>\n",
       "      <th>2024-06-02 11:00:00</th>\n",
       "      <td>NaN</td>\n",
       "      <td>True</td>\n",
       "    </tr>\n",
       "    <tr>\n",
       "      <th>2024-06-02 12:00:00</th>\n",
       "      <td>NaN</td>\n",
       "      <td>True</td>\n",
       "    </tr>\n",
       "    <tr>\n",
       "      <th>2024-06-02 13:00:00</th>\n",
       "      <td>964.0</td>\n",
       "      <td>False</td>\n",
       "    </tr>\n",
       "    <tr>\n",
       "      <th>2024-06-02 14:00:00</th>\n",
       "      <td>851.0</td>\n",
       "      <td>False</td>\n",
       "    </tr>\n",
       "    <tr>\n",
       "      <th>2024-06-02 15:00:00</th>\n",
       "      <td>NaN</td>\n",
       "      <td>True</td>\n",
       "    </tr>\n",
       "  </tbody>\n",
       "</table>\n",
       "</div>"
      ],
      "text/plain": [
       "                     irradiance  missing\n",
       "timestamp                               \n",
       "2024-06-02 11:00:00         NaN     True\n",
       "2024-06-02 12:00:00         NaN     True\n",
       "2024-06-02 13:00:00       964.0    False\n",
       "2024-06-02 14:00:00       851.0    False\n",
       "2024-06-02 15:00:00         NaN     True"
      ]
     },
     "execution_count": 5,
     "metadata": {},
     "output_type": "execute_result"
    }
   ],
   "source": [
    "# preview some rows\n",
    "df_hourly.iloc[35:40]"
   ]
  },
  {
   "cell_type": "markdown",
   "id": "595a6e64-d6f9-4e0e-8639-8362b4af59ff",
   "metadata": {},
   "source": [
    "## Fill Missing Values"
   ]
  },
  {
   "cell_type": "markdown",
   "id": "0d161d14-8871-40ce-9199-ed510267d67b",
   "metadata": {},
   "source": [
    "### Part 1: Create average day"
   ]
  },
  {
   "cell_type": "code",
   "execution_count": 6,
   "id": "237b2377-c40e-4cc2-9e17-0f33f932ea6e",
   "metadata": {},
   "outputs": [],
   "source": [
    "# Extract hour component\n",
    "df_hourly['hour'] = df_hourly.index.hour"
   ]
  },
  {
   "cell_type": "code",
   "execution_count": 7,
   "id": "abd9620a-e2dd-4a6c-90c0-ed70849e2a23",
   "metadata": {},
   "outputs": [
    {
     "data": {
      "text/html": [
       "<div>\n",
       "<style scoped>\n",
       "    .dataframe tbody tr th:only-of-type {\n",
       "        vertical-align: middle;\n",
       "    }\n",
       "\n",
       "    .dataframe tbody tr th {\n",
       "        vertical-align: top;\n",
       "    }\n",
       "\n",
       "    .dataframe thead th {\n",
       "        text-align: right;\n",
       "    }\n",
       "</style>\n",
       "<table border=\"1\" class=\"dataframe\">\n",
       "  <thead>\n",
       "    <tr style=\"text-align: right;\">\n",
       "      <th></th>\n",
       "      <th>irradiance</th>\n",
       "    </tr>\n",
       "    <tr>\n",
       "      <th>hour</th>\n",
       "      <th></th>\n",
       "    </tr>\n",
       "  </thead>\n",
       "  <tbody>\n",
       "    <tr>\n",
       "      <th>0</th>\n",
       "      <td>0.000000</td>\n",
       "    </tr>\n",
       "    <tr>\n",
       "      <th>1</th>\n",
       "      <td>0.000000</td>\n",
       "    </tr>\n",
       "    <tr>\n",
       "      <th>2</th>\n",
       "      <td>0.000000</td>\n",
       "    </tr>\n",
       "    <tr>\n",
       "      <th>3</th>\n",
       "      <td>0.000000</td>\n",
       "    </tr>\n",
       "    <tr>\n",
       "      <th>4</th>\n",
       "      <td>0.000000</td>\n",
       "    </tr>\n",
       "    <tr>\n",
       "      <th>5</th>\n",
       "      <td>0.000000</td>\n",
       "    </tr>\n",
       "    <tr>\n",
       "      <th>6</th>\n",
       "      <td>0.000000</td>\n",
       "    </tr>\n",
       "    <tr>\n",
       "      <th>7</th>\n",
       "      <td>133.666667</td>\n",
       "    </tr>\n",
       "    <tr>\n",
       "      <th>8</th>\n",
       "      <td>381.666667</td>\n",
       "    </tr>\n",
       "    <tr>\n",
       "      <th>9</th>\n",
       "      <td>730.333333</td>\n",
       "    </tr>\n",
       "    <tr>\n",
       "      <th>10</th>\n",
       "      <td>877.500000</td>\n",
       "    </tr>\n",
       "    <tr>\n",
       "      <th>11</th>\n",
       "      <td>971.000000</td>\n",
       "    </tr>\n",
       "    <tr>\n",
       "      <th>12</th>\n",
       "      <td>988.500000</td>\n",
       "    </tr>\n",
       "    <tr>\n",
       "      <th>13</th>\n",
       "      <td>967.000000</td>\n",
       "    </tr>\n",
       "    <tr>\n",
       "      <th>14</th>\n",
       "      <td>829.000000</td>\n",
       "    </tr>\n",
       "    <tr>\n",
       "      <th>15</th>\n",
       "      <td>675.000000</td>\n",
       "    </tr>\n",
       "    <tr>\n",
       "      <th>16</th>\n",
       "      <td>551.000000</td>\n",
       "    </tr>\n",
       "    <tr>\n",
       "      <th>17</th>\n",
       "      <td>262.333333</td>\n",
       "    </tr>\n",
       "    <tr>\n",
       "      <th>18</th>\n",
       "      <td>14.333333</td>\n",
       "    </tr>\n",
       "    <tr>\n",
       "      <th>19</th>\n",
       "      <td>0.000000</td>\n",
       "    </tr>\n",
       "    <tr>\n",
       "      <th>20</th>\n",
       "      <td>0.000000</td>\n",
       "    </tr>\n",
       "    <tr>\n",
       "      <th>21</th>\n",
       "      <td>0.000000</td>\n",
       "    </tr>\n",
       "    <tr>\n",
       "      <th>22</th>\n",
       "      <td>0.000000</td>\n",
       "    </tr>\n",
       "    <tr>\n",
       "      <th>23</th>\n",
       "      <td>0.000000</td>\n",
       "    </tr>\n",
       "  </tbody>\n",
       "</table>\n",
       "</div>"
      ],
      "text/plain": [
       "      irradiance\n",
       "hour            \n",
       "0       0.000000\n",
       "1       0.000000\n",
       "2       0.000000\n",
       "3       0.000000\n",
       "4       0.000000\n",
       "5       0.000000\n",
       "6       0.000000\n",
       "7     133.666667\n",
       "8     381.666667\n",
       "9     730.333333\n",
       "10    877.500000\n",
       "11    971.000000\n",
       "12    988.500000\n",
       "13    967.000000\n",
       "14    829.000000\n",
       "15    675.000000\n",
       "16    551.000000\n",
       "17    262.333333\n",
       "18     14.333333\n",
       "19      0.000000\n",
       "20      0.000000\n",
       "21      0.000000\n",
       "22      0.000000\n",
       "23      0.000000"
      ]
     },
     "execution_count": 7,
     "metadata": {},
     "output_type": "execute_result"
    }
   ],
   "source": [
    "# get an average day based on the three existing days\n",
    "avg_df = (df_hourly[['irradiance']]\n",
    "          .groupby(df_hourly['hour']).mean('irradiance'))\n",
    "\n",
    "# preview\n",
    "avg_df"
   ]
  },
  {
   "cell_type": "code",
   "execution_count": 8,
   "id": "bcfe0cc2-0ead-4e1f-8da9-51a87f6d9e5e",
   "metadata": {},
   "outputs": [],
   "source": [
    "# convert average values to dictionary\n",
    "avg_by_hour = avg_df.to_dict()['irradiance']\n",
    "\n",
    "# create new column\n",
    "df_hourly['irradiance_avg'] = df_hourly['irradiance']\n",
    "\n",
    "# fill column using dictionary mapping\n",
    "df_hourly['irradiance_avg'] = (df_hourly['irradiance_avg']\n",
    "                               .fillna(df_hourly['hour'].map(avg_by_hour)))"
   ]
  },
  {
   "cell_type": "code",
   "execution_count": 9,
   "id": "a633d385-4759-4834-a85d-79b7571a7c17",
   "metadata": {},
   "outputs": [
    {
     "data": {
      "text/html": [
       "<div>\n",
       "<style scoped>\n",
       "    .dataframe tbody tr th:only-of-type {\n",
       "        vertical-align: middle;\n",
       "    }\n",
       "\n",
       "    .dataframe tbody tr th {\n",
       "        vertical-align: top;\n",
       "    }\n",
       "\n",
       "    .dataframe thead th {\n",
       "        text-align: right;\n",
       "    }\n",
       "</style>\n",
       "<table border=\"1\" class=\"dataframe\">\n",
       "  <thead>\n",
       "    <tr style=\"text-align: right;\">\n",
       "      <th></th>\n",
       "      <th>irradiance</th>\n",
       "      <th>missing</th>\n",
       "      <th>hour</th>\n",
       "      <th>irradiance_avg</th>\n",
       "    </tr>\n",
       "    <tr>\n",
       "      <th>timestamp</th>\n",
       "      <th></th>\n",
       "      <th></th>\n",
       "      <th></th>\n",
       "      <th></th>\n",
       "    </tr>\n",
       "  </thead>\n",
       "  <tbody>\n",
       "    <tr>\n",
       "      <th>2024-06-02 11:00:00</th>\n",
       "      <td>NaN</td>\n",
       "      <td>True</td>\n",
       "      <td>11</td>\n",
       "      <td>971.0</td>\n",
       "    </tr>\n",
       "    <tr>\n",
       "      <th>2024-06-02 12:00:00</th>\n",
       "      <td>NaN</td>\n",
       "      <td>True</td>\n",
       "      <td>12</td>\n",
       "      <td>988.5</td>\n",
       "    </tr>\n",
       "    <tr>\n",
       "      <th>2024-06-02 13:00:00</th>\n",
       "      <td>964.0</td>\n",
       "      <td>False</td>\n",
       "      <td>13</td>\n",
       "      <td>964.0</td>\n",
       "    </tr>\n",
       "    <tr>\n",
       "      <th>2024-06-02 14:00:00</th>\n",
       "      <td>851.0</td>\n",
       "      <td>False</td>\n",
       "      <td>14</td>\n",
       "      <td>851.0</td>\n",
       "    </tr>\n",
       "    <tr>\n",
       "      <th>2024-06-02 15:00:00</th>\n",
       "      <td>NaN</td>\n",
       "      <td>True</td>\n",
       "      <td>15</td>\n",
       "      <td>675.0</td>\n",
       "    </tr>\n",
       "  </tbody>\n",
       "</table>\n",
       "</div>"
      ],
      "text/plain": [
       "                     irradiance  missing  hour  irradiance_avg\n",
       "timestamp                                                     \n",
       "2024-06-02 11:00:00         NaN     True    11           971.0\n",
       "2024-06-02 12:00:00         NaN     True    12           988.5\n",
       "2024-06-02 13:00:00       964.0    False    13           964.0\n",
       "2024-06-02 14:00:00       851.0    False    14           851.0\n",
       "2024-06-02 15:00:00         NaN     True    15           675.0"
      ]
     },
     "execution_count": 9,
     "metadata": {},
     "output_type": "execute_result"
    }
   ],
   "source": [
    "# sample rows 35-40\n",
    "df_hourly.iloc[35:40]"
   ]
  },
  {
   "cell_type": "code",
   "execution_count": null,
   "id": "0de631eb-ff53-4a24-99f1-2ed6573e7e7a",
   "metadata": {},
   "outputs": [],
   "source": []
  },
  {
   "cell_type": "markdown",
   "id": "2b74db0c-74eb-4921-bd35-a21d1fa87e17",
   "metadata": {},
   "source": [
    "### Part 2: Interpolate Missing Values\n",
    "\n",
    "Fill missing values by using the values before and after"
   ]
  },
  {
   "cell_type": "code",
   "execution_count": 10,
   "id": "2b5666c8-7f8e-40a6-874a-32ea569c98ba",
   "metadata": {},
   "outputs": [],
   "source": [
    "# create new column using interpolation function\n",
    "df_hourly['irradiance_interpolated'] = df_hourly['irradiance'].interpolate(method='time')"
   ]
  },
  {
   "cell_type": "code",
   "execution_count": 11,
   "id": "f9ed267f-6a84-4e87-a6a9-576174e059ae",
   "metadata": {},
   "outputs": [
    {
     "data": {
      "text/html": [
       "<div>\n",
       "<style scoped>\n",
       "    .dataframe tbody tr th:only-of-type {\n",
       "        vertical-align: middle;\n",
       "    }\n",
       "\n",
       "    .dataframe tbody tr th {\n",
       "        vertical-align: top;\n",
       "    }\n",
       "\n",
       "    .dataframe thead th {\n",
       "        text-align: right;\n",
       "    }\n",
       "</style>\n",
       "<table border=\"1\" class=\"dataframe\">\n",
       "  <thead>\n",
       "    <tr style=\"text-align: right;\">\n",
       "      <th></th>\n",
       "      <th>irradiance</th>\n",
       "      <th>missing</th>\n",
       "      <th>hour</th>\n",
       "      <th>irradiance_avg</th>\n",
       "      <th>irradiance_interpolated</th>\n",
       "    </tr>\n",
       "    <tr>\n",
       "      <th>timestamp</th>\n",
       "      <th></th>\n",
       "      <th></th>\n",
       "      <th></th>\n",
       "      <th></th>\n",
       "      <th></th>\n",
       "    </tr>\n",
       "  </thead>\n",
       "  <tbody>\n",
       "    <tr>\n",
       "      <th>2024-06-02 11:00:00</th>\n",
       "      <td>NaN</td>\n",
       "      <td>True</td>\n",
       "      <td>11</td>\n",
       "      <td>971.0</td>\n",
       "      <td>857.50</td>\n",
       "    </tr>\n",
       "    <tr>\n",
       "      <th>2024-06-02 12:00:00</th>\n",
       "      <td>NaN</td>\n",
       "      <td>True</td>\n",
       "      <td>12</td>\n",
       "      <td>988.5</td>\n",
       "      <td>910.75</td>\n",
       "    </tr>\n",
       "    <tr>\n",
       "      <th>2024-06-02 13:00:00</th>\n",
       "      <td>964.0</td>\n",
       "      <td>False</td>\n",
       "      <td>13</td>\n",
       "      <td>964.0</td>\n",
       "      <td>964.00</td>\n",
       "    </tr>\n",
       "    <tr>\n",
       "      <th>2024-06-02 14:00:00</th>\n",
       "      <td>851.0</td>\n",
       "      <td>False</td>\n",
       "      <td>14</td>\n",
       "      <td>851.0</td>\n",
       "      <td>851.00</td>\n",
       "    </tr>\n",
       "    <tr>\n",
       "      <th>2024-06-02 15:00:00</th>\n",
       "      <td>NaN</td>\n",
       "      <td>True</td>\n",
       "      <td>15</td>\n",
       "      <td>675.0</td>\n",
       "      <td>703.00</td>\n",
       "    </tr>\n",
       "  </tbody>\n",
       "</table>\n",
       "</div>"
      ],
      "text/plain": [
       "                     irradiance  missing  hour  irradiance_avg  \\\n",
       "timestamp                                                        \n",
       "2024-06-02 11:00:00         NaN     True    11           971.0   \n",
       "2024-06-02 12:00:00         NaN     True    12           988.5   \n",
       "2024-06-02 13:00:00       964.0    False    13           964.0   \n",
       "2024-06-02 14:00:00       851.0    False    14           851.0   \n",
       "2024-06-02 15:00:00         NaN     True    15           675.0   \n",
       "\n",
       "                     irradiance_interpolated  \n",
       "timestamp                                     \n",
       "2024-06-02 11:00:00                   857.50  \n",
       "2024-06-02 12:00:00                   910.75  \n",
       "2024-06-02 13:00:00                   964.00  \n",
       "2024-06-02 14:00:00                   851.00  \n",
       "2024-06-02 15:00:00                   703.00  "
      ]
     },
     "execution_count": 11,
     "metadata": {},
     "output_type": "execute_result"
    }
   ],
   "source": [
    "# preview\n",
    "df_hourly.iloc[35:40]"
   ]
  },
  {
   "cell_type": "markdown",
   "id": "3e4b8def-c677-46a8-ab74-26bb8fc474fa",
   "metadata": {},
   "source": [
    "### Part 3: Create average of the two methods\n",
    "\n",
    "Take the average of the average day and the interpolated value"
   ]
  },
  {
   "cell_type": "code",
   "execution_count": 12,
   "id": "b16c4d13-e3b4-4278-892d-65ec5a1743cf",
   "metadata": {},
   "outputs": [
    {
     "data": {
      "text/html": [
       "<div>\n",
       "<style scoped>\n",
       "    .dataframe tbody tr th:only-of-type {\n",
       "        vertical-align: middle;\n",
       "    }\n",
       "\n",
       "    .dataframe tbody tr th {\n",
       "        vertical-align: top;\n",
       "    }\n",
       "\n",
       "    .dataframe thead th {\n",
       "        text-align: right;\n",
       "    }\n",
       "</style>\n",
       "<table border=\"1\" class=\"dataframe\">\n",
       "  <thead>\n",
       "    <tr style=\"text-align: right;\">\n",
       "      <th></th>\n",
       "      <th>irradiance</th>\n",
       "      <th>missing</th>\n",
       "      <th>hour</th>\n",
       "      <th>irradiance_avg</th>\n",
       "      <th>irradiance_interpolated</th>\n",
       "      <th>irradiance_fill</th>\n",
       "    </tr>\n",
       "    <tr>\n",
       "      <th>timestamp</th>\n",
       "      <th></th>\n",
       "      <th></th>\n",
       "      <th></th>\n",
       "      <th></th>\n",
       "      <th></th>\n",
       "      <th></th>\n",
       "    </tr>\n",
       "  </thead>\n",
       "  <tbody>\n",
       "    <tr>\n",
       "      <th>2024-06-02 11:00:00</th>\n",
       "      <td>914.250</td>\n",
       "      <td>True</td>\n",
       "      <td>11</td>\n",
       "      <td>971.0</td>\n",
       "      <td>857.50</td>\n",
       "      <td>914.250</td>\n",
       "    </tr>\n",
       "    <tr>\n",
       "      <th>2024-06-02 12:00:00</th>\n",
       "      <td>949.625</td>\n",
       "      <td>True</td>\n",
       "      <td>12</td>\n",
       "      <td>988.5</td>\n",
       "      <td>910.75</td>\n",
       "      <td>949.625</td>\n",
       "    </tr>\n",
       "    <tr>\n",
       "      <th>2024-06-02 13:00:00</th>\n",
       "      <td>964.000</td>\n",
       "      <td>False</td>\n",
       "      <td>13</td>\n",
       "      <td>964.0</td>\n",
       "      <td>964.00</td>\n",
       "      <td>964.000</td>\n",
       "    </tr>\n",
       "    <tr>\n",
       "      <th>2024-06-02 14:00:00</th>\n",
       "      <td>851.000</td>\n",
       "      <td>False</td>\n",
       "      <td>14</td>\n",
       "      <td>851.0</td>\n",
       "      <td>851.00</td>\n",
       "      <td>851.000</td>\n",
       "    </tr>\n",
       "    <tr>\n",
       "      <th>2024-06-02 15:00:00</th>\n",
       "      <td>689.000</td>\n",
       "      <td>True</td>\n",
       "      <td>15</td>\n",
       "      <td>675.0</td>\n",
       "      <td>703.00</td>\n",
       "      <td>689.000</td>\n",
       "    </tr>\n",
       "  </tbody>\n",
       "</table>\n",
       "</div>"
      ],
      "text/plain": [
       "                     irradiance  missing  hour  irradiance_avg  \\\n",
       "timestamp                                                        \n",
       "2024-06-02 11:00:00     914.250     True    11           971.0   \n",
       "2024-06-02 12:00:00     949.625     True    12           988.5   \n",
       "2024-06-02 13:00:00     964.000    False    13           964.0   \n",
       "2024-06-02 14:00:00     851.000    False    14           851.0   \n",
       "2024-06-02 15:00:00     689.000     True    15           675.0   \n",
       "\n",
       "                     irradiance_interpolated  irradiance_fill  \n",
       "timestamp                                                      \n",
       "2024-06-02 11:00:00                   857.50          914.250  \n",
       "2024-06-02 12:00:00                   910.75          949.625  \n",
       "2024-06-02 13:00:00                   964.00          964.000  \n",
       "2024-06-02 14:00:00                   851.00          851.000  \n",
       "2024-06-02 15:00:00                   703.00          689.000  "
      ]
     },
     "execution_count": 12,
     "metadata": {},
     "output_type": "execute_result"
    }
   ],
   "source": [
    "# take the mean of the two columns\n",
    "df_hourly['irradiance_fill'] = (df_hourly[['irradiance_avg', 'irradiance_interpolated']]\n",
    "                                .mean(axis=1))\n",
    "\n",
    "# fill na using the new column\n",
    "df_hourly['irradiance'] = df_hourly['irradiance'].fillna(df_hourly['irradiance_fill'])\n",
    "\n",
    "# select just the cols of interest\n",
    "# df_hourly = df_hourly[['irradiance', 'missing']]\n",
    "\n",
    "# preview\n",
    "df_hourly.iloc[35:40]"
   ]
  },
  {
   "cell_type": "code",
   "execution_count": null,
   "id": "25d91f99-941e-45b2-a632-0f718d7e1410",
   "metadata": {},
   "outputs": [],
   "source": []
  },
  {
   "cell_type": "markdown",
   "id": "95127314-3427-4011-b93a-d66cc9b5a744",
   "metadata": {},
   "source": [
    "## Make plots"
   ]
  },
  {
   "cell_type": "code",
   "execution_count": 13,
   "id": "d4e1a301-3431-4526-971b-fd27cb2a30c4",
   "metadata": {},
   "outputs": [
    {
     "data": {
      "text/html": [
       "<div>\n",
       "<style scoped>\n",
       "    .dataframe tbody tr th:only-of-type {\n",
       "        vertical-align: middle;\n",
       "    }\n",
       "\n",
       "    .dataframe tbody tr th {\n",
       "        vertical-align: top;\n",
       "    }\n",
       "\n",
       "    .dataframe thead th {\n",
       "        text-align: right;\n",
       "    }\n",
       "</style>\n",
       "<table border=\"1\" class=\"dataframe\">\n",
       "  <thead>\n",
       "    <tr style=\"text-align: right;\">\n",
       "      <th></th>\n",
       "      <th>timestamp</th>\n",
       "      <th>irradiance</th>\n",
       "      <th>missing</th>\n",
       "    </tr>\n",
       "  </thead>\n",
       "  <tbody>\n",
       "    <tr>\n",
       "      <th>35</th>\n",
       "      <td>2024-06-02 11:00:00</td>\n",
       "      <td>914.250</td>\n",
       "      <td>True</td>\n",
       "    </tr>\n",
       "    <tr>\n",
       "      <th>36</th>\n",
       "      <td>2024-06-02 12:00:00</td>\n",
       "      <td>949.625</td>\n",
       "      <td>True</td>\n",
       "    </tr>\n",
       "    <tr>\n",
       "      <th>37</th>\n",
       "      <td>2024-06-02 13:00:00</td>\n",
       "      <td>964.000</td>\n",
       "      <td>False</td>\n",
       "    </tr>\n",
       "    <tr>\n",
       "      <th>38</th>\n",
       "      <td>2024-06-02 14:00:00</td>\n",
       "      <td>851.000</td>\n",
       "      <td>False</td>\n",
       "    </tr>\n",
       "    <tr>\n",
       "      <th>39</th>\n",
       "      <td>2024-06-02 15:00:00</td>\n",
       "      <td>689.000</td>\n",
       "      <td>True</td>\n",
       "    </tr>\n",
       "  </tbody>\n",
       "</table>\n",
       "</div>"
      ],
      "text/plain": [
       "             timestamp  irradiance  missing\n",
       "35 2024-06-02 11:00:00     914.250     True\n",
       "36 2024-06-02 12:00:00     949.625     True\n",
       "37 2024-06-02 13:00:00     964.000    False\n",
       "38 2024-06-02 14:00:00     851.000    False\n",
       "39 2024-06-02 15:00:00     689.000     True"
      ]
     },
     "execution_count": 13,
     "metadata": {},
     "output_type": "execute_result"
    }
   ],
   "source": [
    "# select just the cols of interest and reset index\n",
    "data = df_hourly[['irradiance', 'missing']].reset_index()\n",
    "\n",
    "# preview\n",
    "data.iloc[35:40]"
   ]
  },
  {
   "cell_type": "markdown",
   "id": "81951ddb-cc90-4c41-80af-5ec77b6f33f9",
   "metadata": {},
   "source": [
    "### Quick plot\n",
    "\n",
    "Lines and points combined, showing which values were interpolated"
   ]
  },
  {
   "cell_type": "code",
   "execution_count": 14,
   "id": "cf3e086f-62a7-45ca-91b8-2ac846b4869a",
   "metadata": {},
   "outputs": [
    {
     "data": {
      "application/vnd.vegalite.v5+json": {
       "$schema": "https://vega.github.io/schema/vega-lite/v5.20.1.json",
       "config": {
        "view": {
         "continuousHeight": 300,
         "continuousWidth": 300
        }
       },
       "data": {
        "name": "data-90aa915527d32fd707cefdcc947e06e0"
       },
       "datasets": {
        "data-90aa915527d32fd707cefdcc947e06e0": [
         {
          "irradiance": 0,
          "missing": false,
          "timestamp": "2024-06-01T00:00:00"
         },
         {
          "irradiance": 0,
          "missing": false,
          "timestamp": "2024-06-01T01:00:00"
         },
         {
          "irradiance": 0,
          "missing": false,
          "timestamp": "2024-06-01T02:00:00"
         },
         {
          "irradiance": 0,
          "missing": false,
          "timestamp": "2024-06-01T03:00:00"
         },
         {
          "irradiance": 0,
          "missing": false,
          "timestamp": "2024-06-01T04:00:00"
         },
         {
          "irradiance": 0,
          "missing": false,
          "timestamp": "2024-06-01T05:00:00"
         },
         {
          "irradiance": 0,
          "missing": false,
          "timestamp": "2024-06-01T06:00:00"
         },
         {
          "irradiance": 121,
          "missing": false,
          "timestamp": "2024-06-01T07:00:00"
         },
         {
          "irradiance": 342,
          "missing": false,
          "timestamp": "2024-06-01T08:00:00"
         },
         {
          "irradiance": 751,
          "missing": false,
          "timestamp": "2024-06-01T09:00:00"
         },
         {
          "irradiance": 888,
          "missing": false,
          "timestamp": "2024-06-01T10:00:00"
         },
         {
          "irradiance": 972,
          "missing": false,
          "timestamp": "2024-06-01T11:00:00"
         },
         {
          "irradiance": 1000,
          "missing": false,
          "timestamp": "2024-06-01T12:00:00"
         },
         {
          "irradiance": 966,
          "missing": false,
          "timestamp": "2024-06-01T13:00:00"
         },
         {
          "irradiance": 850,
          "missing": false,
          "timestamp": "2024-06-01T14:00:00"
         },
         {
          "irradiance": 600,
          "missing": false,
          "timestamp": "2024-06-01T15:00:00"
         },
         {
          "irradiance": 543,
          "missing": false,
          "timestamp": "2024-06-01T16:00:00"
         },
         {
          "irradiance": 200,
          "missing": false,
          "timestamp": "2024-06-01T17:00:00"
         },
         {
          "irradiance": 18,
          "missing": false,
          "timestamp": "2024-06-01T18:00:00"
         },
         {
          "irradiance": 0,
          "missing": false,
          "timestamp": "2024-06-01T19:00:00"
         },
         {
          "irradiance": 0,
          "missing": false,
          "timestamp": "2024-06-01T20:00:00"
         },
         {
          "irradiance": 0,
          "missing": false,
          "timestamp": "2024-06-01T21:00:00"
         },
         {
          "irradiance": 0,
          "missing": false,
          "timestamp": "2024-06-01T22:00:00"
         },
         {
          "irradiance": 0,
          "missing": false,
          "timestamp": "2024-06-01T23:00:00"
         },
         {
          "irradiance": 0,
          "missing": false,
          "timestamp": "2024-06-02T00:00:00"
         },
         {
          "irradiance": 0,
          "missing": false,
          "timestamp": "2024-06-02T01:00:00"
         },
         {
          "irradiance": 0,
          "missing": false,
          "timestamp": "2024-06-02T02:00:00"
         },
         {
          "irradiance": 0,
          "missing": false,
          "timestamp": "2024-06-02T03:00:00"
         },
         {
          "irradiance": 0,
          "missing": false,
          "timestamp": "2024-06-02T04:00:00"
         },
         {
          "irradiance": 0,
          "missing": false,
          "timestamp": "2024-06-02T05:00:00"
         },
         {
          "irradiance": 0,
          "missing": false,
          "timestamp": "2024-06-02T06:00:00"
         },
         {
          "irradiance": 123,
          "missing": false,
          "timestamp": "2024-06-02T07:00:00"
         },
         {
          "irradiance": 345,
          "missing": false,
          "timestamp": "2024-06-02T08:00:00"
         },
         {
          "irradiance": 751,
          "missing": false,
          "timestamp": "2024-06-02T09:00:00"
         },
         {
          "irradiance": 840.875,
          "missing": true,
          "timestamp": "2024-06-02T10:00:00"
         },
         {
          "irradiance": 914.25,
          "missing": true,
          "timestamp": "2024-06-02T11:00:00"
         },
         {
          "irradiance": 949.625,
          "missing": true,
          "timestamp": "2024-06-02T12:00:00"
         },
         {
          "irradiance": 964,
          "missing": false,
          "timestamp": "2024-06-02T13:00:00"
         },
         {
          "irradiance": 851,
          "missing": false,
          "timestamp": "2024-06-02T14:00:00"
         },
         {
          "irradiance": 689,
          "missing": true,
          "timestamp": "2024-06-02T15:00:00"
         },
         {
          "irradiance": 555,
          "missing": false,
          "timestamp": "2024-06-02T16:00:00"
         },
         {
          "irradiance": 289,
          "missing": false,
          "timestamp": "2024-06-02T17:00:00"
         },
         {
          "irradiance": 25,
          "missing": false,
          "timestamp": "2024-06-02T18:00:00"
         },
         {
          "irradiance": 0,
          "missing": false,
          "timestamp": "2024-06-02T19:00:00"
         },
         {
          "irradiance": 0,
          "missing": false,
          "timestamp": "2024-06-02T20:00:00"
         },
         {
          "irradiance": 0,
          "missing": false,
          "timestamp": "2024-06-02T21:00:00"
         },
         {
          "irradiance": 0,
          "missing": false,
          "timestamp": "2024-06-02T22:00:00"
         },
         {
          "irradiance": 0,
          "missing": false,
          "timestamp": "2024-06-02T23:00:00"
         },
         {
          "irradiance": 0,
          "missing": true,
          "timestamp": "2024-06-03T00:00:00"
         },
         {
          "irradiance": 0,
          "missing": true,
          "timestamp": "2024-06-03T01:00:00"
         },
         {
          "irradiance": 0,
          "missing": true,
          "timestamp": "2024-06-03T02:00:00"
         },
         {
          "irradiance": 0,
          "missing": true,
          "timestamp": "2024-06-03T03:00:00"
         },
         {
          "irradiance": 0,
          "missing": true,
          "timestamp": "2024-06-03T04:00:00"
         },
         {
          "irradiance": 0,
          "missing": true,
          "timestamp": "2024-06-03T05:00:00"
         },
         {
          "irradiance": 0,
          "missing": false,
          "timestamp": "2024-06-03T06:00:00"
         },
         {
          "irradiance": 157,
          "missing": false,
          "timestamp": "2024-06-03T07:00:00"
         },
         {
          "irradiance": 458,
          "missing": false,
          "timestamp": "2024-06-03T08:00:00"
         },
         {
          "irradiance": 689,
          "missing": false,
          "timestamp": "2024-06-03T09:00:00"
         },
         {
          "irradiance": 867,
          "missing": false,
          "timestamp": "2024-06-03T10:00:00"
         },
         {
          "irradiance": 970,
          "missing": false,
          "timestamp": "2024-06-03T11:00:00"
         },
         {
          "irradiance": 977,
          "missing": false,
          "timestamp": "2024-06-03T12:00:00"
         },
         {
          "irradiance": 971,
          "missing": false,
          "timestamp": "2024-06-03T13:00:00"
         },
         {
          "irradiance": 786,
          "missing": false,
          "timestamp": "2024-06-03T14:00:00"
         },
         {
          "irradiance": 750,
          "missing": false,
          "timestamp": "2024-06-03T15:00:00"
         },
         {
          "irradiance": 555,
          "missing": false,
          "timestamp": "2024-06-03T16:00:00"
         },
         {
          "irradiance": 298,
          "missing": false,
          "timestamp": "2024-06-03T17:00:00"
         },
         {
          "irradiance": 0,
          "missing": false,
          "timestamp": "2024-06-03T18:00:00"
         }
        ]
       },
       "layer": [
        {
         "encoding": {
          "color": {
           "field": "missing",
           "type": "nominal"
          },
          "x": {
           "field": "timestamp",
           "type": "temporal"
          },
          "y": {
           "field": "irradiance",
           "type": "quantitative"
          }
         },
         "mark": {
          "type": "point"
         }
        },
        {
         "encoding": {
          "x": {
           "field": "timestamp",
           "type": "temporal"
          },
          "y": {
           "field": "irradiance",
           "type": "quantitative"
          }
         },
         "mark": {
          "type": "line"
         }
        }
       ]
      },
      "image/png": "[encoded data removed]",
      "text/plain": [
       "<VegaLite 5 object>\n",
       "\n",
       "If you see this message, it means the renderer has not been properly enabled\n",
       "for the frontend that you are using. For more information, see\n",
       "https://altair-viz.github.io/user_guide/display_frontends.html#troubleshooting\n"
      ]
     },
     "execution_count": 14,
     "metadata": {},
     "output_type": "execute_result"
    }
   ],
   "source": [
    "line = alt.Chart(data).mark_line().encode(\n",
    "    x='timestamp:T',\n",
    "    y='irradiance:Q',\n",
    ")\n",
    "\n",
    "points = alt.Chart(data).mark_point().encode(\n",
    "    x='timestamp:T',\n",
    "    y='irradiance:Q',\n",
    "    color=\"missing:N\",\n",
    ")\n",
    "\n",
    "points + line"
   ]
  },
  {
   "cell_type": "markdown",
   "id": "f67dd567-9146-471f-8dfb-954748c15ced",
   "metadata": {},
   "source": [
    "#### Fancy plot\n",
    "\n",
    "Bar chart with more styling"
   ]
  },
  {
   "cell_type": "code",
   "execution_count": 15,
   "id": "15ff0f19-0e7a-483d-80c9-d73276996665",
   "metadata": {},
   "outputs": [
    {
     "data": {
      "application/vnd.vegalite.v5+json": {
       "$schema": "https://vega.github.io/schema/vega-lite/v5.20.1.json",
       "config": {
        "axis": {
         "grid": false,
         "labelFontSize": 12,
         "titleFontSize": 14,
         "titlePadding": 15
        },
        "title": {
         "fontSize": 20
        },
        "view": {
         "continuousHeight": 300,
         "continuousWidth": 300,
         "strokeWidth": 0
        }
       },
       "data": {
        "name": "data-90aa915527d32fd707cefdcc947e06e0"
       },
       "datasets": {
        "data-90aa915527d32fd707cefdcc947e06e0": [
         {
          "irradiance": 0,
          "missing": false,
          "timestamp": "2024-06-01T00:00:00"
         },
         {
          "irradiance": 0,
          "missing": false,
          "timestamp": "2024-06-01T01:00:00"
         },
         {
          "irradiance": 0,
          "missing": false,
          "timestamp": "2024-06-01T02:00:00"
         },
         {
          "irradiance": 0,
          "missing": false,
          "timestamp": "2024-06-01T03:00:00"
         },
         {
          "irradiance": 0,
          "missing": false,
          "timestamp": "2024-06-01T04:00:00"
         },
         {
          "irradiance": 0,
          "missing": false,
          "timestamp": "2024-06-01T05:00:00"
         },
         {
          "irradiance": 0,
          "missing": false,
          "timestamp": "2024-06-01T06:00:00"
         },
         {
          "irradiance": 121,
          "missing": false,
          "timestamp": "2024-06-01T07:00:00"
         },
         {
          "irradiance": 342,
          "missing": false,
          "timestamp": "2024-06-01T08:00:00"
         },
         {
          "irradiance": 751,
          "missing": false,
          "timestamp": "2024-06-01T09:00:00"
         },
         {
          "irradiance": 888,
          "missing": false,
          "timestamp": "2024-06-01T10:00:00"
         },
         {
          "irradiance": 972,
          "missing": false,
          "timestamp": "2024-06-01T11:00:00"
         },
         {
          "irradiance": 1000,
          "missing": false,
          "timestamp": "2024-06-01T12:00:00"
         },
         {
          "irradiance": 966,
          "missing": false,
          "timestamp": "2024-06-01T13:00:00"
         },
         {
          "irradiance": 850,
          "missing": false,
          "timestamp": "2024-06-01T14:00:00"
         },
         {
          "irradiance": 600,
          "missing": false,
          "timestamp": "2024-06-01T15:00:00"
         },
         {
          "irradiance": 543,
          "missing": false,
          "timestamp": "2024-06-01T16:00:00"
         },
         {
          "irradiance": 200,
          "missing": false,
          "timestamp": "2024-06-01T17:00:00"
         },
         {
          "irradiance": 18,
          "missing": false,
          "timestamp": "2024-06-01T18:00:00"
         },
         {
          "irradiance": 0,
          "missing": false,
          "timestamp": "2024-06-01T19:00:00"
         },
         {
          "irradiance": 0,
          "missing": false,
          "timestamp": "2024-06-01T20:00:00"
         },
         {
          "irradiance": 0,
          "missing": false,
          "timestamp": "2024-06-01T21:00:00"
         },
         {
          "irradiance": 0,
          "missing": false,
          "timestamp": "2024-06-01T22:00:00"
         },
         {
          "irradiance": 0,
          "missing": false,
          "timestamp": "2024-06-01T23:00:00"
         },
         {
          "irradiance": 0,
          "missing": false,
          "timestamp": "2024-06-02T00:00:00"
         },
         {
          "irradiance": 0,
          "missing": false,
          "timestamp": "2024-06-02T01:00:00"
         },
         {
          "irradiance": 0,
          "missing": false,
          "timestamp": "2024-06-02T02:00:00"
         },
         {
          "irradiance": 0,
          "missing": false,
          "timestamp": "2024-06-02T03:00:00"
         },
         {
          "irradiance": 0,
          "missing": false,
          "timestamp": "2024-06-02T04:00:00"
         },
         {
          "irradiance": 0,
          "missing": false,
          "timestamp": "2024-06-02T05:00:00"
         },
         {
          "irradiance": 0,
          "missing": false,
          "timestamp": "2024-06-02T06:00:00"
         },
         {
          "irradiance": 123,
          "missing": false,
          "timestamp": "2024-06-02T07:00:00"
         },
         {
          "irradiance": 345,
          "missing": false,
          "timestamp": "2024-06-02T08:00:00"
         },
         {
          "irradiance": 751,
          "missing": false,
          "timestamp": "2024-06-02T09:00:00"
         },
         {
          "irradiance": 840.875,
          "missing": true,
          "timestamp": "2024-06-02T10:00:00"
         },
         {
          "irradiance": 914.25,
          "missing": true,
          "timestamp": "2024-06-02T11:00:00"
         },
         {
          "irradiance": 949.625,
          "missing": true,
          "timestamp": "2024-06-02T12:00:00"
         },
         {
          "irradiance": 964,
          "missing": false,
          "timestamp": "2024-06-02T13:00:00"
         },
         {
          "irradiance": 851,
          "missing": false,
          "timestamp": "2024-06-02T14:00:00"
         },
         {
          "irradiance": 689,
          "missing": true,
          "timestamp": "2024-06-02T15:00:00"
         },
         {
          "irradiance": 555,
          "missing": false,
          "timestamp": "2024-06-02T16:00:00"
         },
         {
          "irradiance": 289,
          "missing": false,
          "timestamp": "2024-06-02T17:00:00"
         },
         {
          "irradiance": 25,
          "missing": false,
          "timestamp": "2024-06-02T18:00:00"
         },
         {
          "irradiance": 0,
          "missing": false,
          "timestamp": "2024-06-02T19:00:00"
         },
         {
          "irradiance": 0,
          "missing": false,
          "timestamp": "2024-06-02T20:00:00"
         },
         {
          "irradiance": 0,
          "missing": false,
          "timestamp": "2024-06-02T21:00:00"
         },
         {
          "irradiance": 0,
          "missing": false,
          "timestamp": "2024-06-02T22:00:00"
         },
         {
          "irradiance": 0,
          "missing": false,
          "timestamp": "2024-06-02T23:00:00"
         },
         {
          "irradiance": 0,
          "missing": true,
          "timestamp": "2024-06-03T00:00:00"
         },
         {
          "irradiance": 0,
          "missing": true,
          "timestamp": "2024-06-03T01:00:00"
         },
         {
          "irradiance": 0,
          "missing": true,
          "timestamp": "2024-06-03T02:00:00"
         },
         {
          "irradiance": 0,
          "missing": true,
          "timestamp": "2024-06-03T03:00:00"
         },
         {
          "irradiance": 0,
          "missing": true,
          "timestamp": "2024-06-03T04:00:00"
         },
         {
          "irradiance": 0,
          "missing": true,
          "timestamp": "2024-06-03T05:00:00"
         },
         {
          "irradiance": 0,
          "missing": false,
          "timestamp": "2024-06-03T06:00:00"
         },
         {
          "irradiance": 157,
          "missing": false,
          "timestamp": "2024-06-03T07:00:00"
         },
         {
          "irradiance": 458,
          "missing": false,
          "timestamp": "2024-06-03T08:00:00"
         },
         {
          "irradiance": 689,
          "missing": false,
          "timestamp": "2024-06-03T09:00:00"
         },
         {
          "irradiance": 867,
          "missing": false,
          "timestamp": "2024-06-03T10:00:00"
         },
         {
          "irradiance": 970,
          "missing": false,
          "timestamp": "2024-06-03T11:00:00"
         },
         {
          "irradiance": 977,
          "missing": false,
          "timestamp": "2024-06-03T12:00:00"
         },
         {
          "irradiance": 971,
          "missing": false,
          "timestamp": "2024-06-03T13:00:00"
         },
         {
          "irradiance": 786,
          "missing": false,
          "timestamp": "2024-06-03T14:00:00"
         },
         {
          "irradiance": 750,
          "missing": false,
          "timestamp": "2024-06-03T15:00:00"
         },
         {
          "irradiance": 555,
          "missing": false,
          "timestamp": "2024-06-03T16:00:00"
         },
         {
          "irradiance": 298,
          "missing": false,
          "timestamp": "2024-06-03T17:00:00"
         },
         {
          "irradiance": 0,
          "missing": false,
          "timestamp": "2024-06-03T18:00:00"
         }
        ]
       },
       "encoding": {
        "color": {
         "field": "missing",
         "legend": {
          "title": "Interpolated Data"
         },
         "type": "nominal"
        },
        "x": {
         "axis": {
          "format": "%H:%M",
          "grid": false,
          "labelAngle": -45
         },
         "field": "timestamp",
         "title": "Time",
         "type": "temporal"
        },
        "y": {
         "field": "irradiance",
         "title": "Irradiance (W/m²)",
         "type": "quantitative"
        }
       },
       "height": 400,
       "mark": {
        "cornerRadiusTopLeft": 3,
        "cornerRadiusTopRight": 3,
        "type": "bar",
        "width": 10
       },
       "title": {
        "anchor": "start",
        "fontSize": 20,
        "subtitle": "Hourly readings with interpolated values",
        "subtitleFontSize": 14,
        "text": "Solar Irradiance Measurements"
       },
       "width": 700
      },
      "image/png": "[encoded data removed]",
      "text/plain": [
       "<VegaLite 5 object>\n",
       "\n",
       "If you see this message, it means the renderer has not been properly enabled\n",
       "for the frontend that you are using. For more information, see\n",
       "https://altair-viz.github.io/user_guide/display_frontends.html#troubleshooting\n"
      ]
     },
     "execution_count": 15,
     "metadata": {},
     "output_type": "execute_result"
    }
   ],
   "source": [
    "alt.Chart(data).mark_bar(\n",
    "    cornerRadiusTopLeft=3, cornerRadiusTopRight=3, width=10\n",
    ").encode(\n",
    "    x=alt.X(\n",
    "        \"timestamp:T\",\n",
    "        title=\"Time\",\n",
    "        axis=alt.Axis(labelAngle=-45, format=\"%H:%M\", grid=False),\n",
    "    ),\n",
    "    y=alt.Y(\"irradiance:Q\", title=\"Irradiance (W/m²)\"),\n",
    "    color=alt.Color(\n",
    "        \"missing:N\",\n",
    "        legend=alt.Legend(title=\"Interpolated Data\"),\n",
    "    ),\n",
    ").properties(\n",
    "    width=700,\n",
    "    height=400,\n",
    "    title={\n",
    "        \"text\": \"Solar Irradiance Measurements\",\n",
    "        \"subtitle\": \"Hourly readings with interpolated values\",\n",
    "        \"fontSize\": 20,\n",
    "        \"subtitleFontSize\": 14,\n",
    "        \"anchor\": \"start\",\n",
    "    },\n",
    ").configure_view(\n",
    "    strokeWidth=0\n",
    ").configure_axis(\n",
    "    labelFontSize=12, titleFontSize=14, titlePadding=15, grid=False\n",
    ").configure_title(\n",
    "    fontSize=20\n",
    ")"
   ]
  },
  {
   "cell_type": "markdown",
   "id": "d426e336-8ae7-4e4d-b725-2d7f6e237d59",
   "metadata": {},
   "source": [
    "### Sum irradiance\n",
    "\n",
    "Sum the irradiance values for each day"
   ]
  },
  {
   "cell_type": "code",
   "execution_count": 16,
   "id": "94d4d8a7-cc44-425d-9cee-62dc14d7ecdc",
   "metadata": {},
   "outputs": [
    {
     "data": {
      "text/html": [
       "<div>\n",
       "<style scoped>\n",
       "    .dataframe tbody tr th:only-of-type {\n",
       "        vertical-align: middle;\n",
       "    }\n",
       "\n",
       "    .dataframe tbody tr th {\n",
       "        vertical-align: top;\n",
       "    }\n",
       "\n",
       "    .dataframe thead th {\n",
       "        text-align: right;\n",
       "    }\n",
       "</style>\n",
       "<table border=\"1\" class=\"dataframe\">\n",
       "  <thead>\n",
       "    <tr style=\"text-align: right;\">\n",
       "      <th></th>\n",
       "      <th>irradiance</th>\n",
       "    </tr>\n",
       "    <tr>\n",
       "      <th>timestamp</th>\n",
       "      <th></th>\n",
       "    </tr>\n",
       "  </thead>\n",
       "  <tbody>\n",
       "    <tr>\n",
       "      <th>2024-06-01</th>\n",
       "      <td>7251.00</td>\n",
       "    </tr>\n",
       "    <tr>\n",
       "      <th>2024-06-02</th>\n",
       "      <td>7296.75</td>\n",
       "    </tr>\n",
       "    <tr>\n",
       "      <th>2024-06-03</th>\n",
       "      <td>7478.00</td>\n",
       "    </tr>\n",
       "  </tbody>\n",
       "</table>\n",
       "</div>"
      ],
      "text/plain": [
       "            irradiance\n",
       "timestamp             \n",
       "2024-06-01     7251.00\n",
       "2024-06-02     7296.75\n",
       "2024-06-03     7478.00"
      ]
     },
     "execution_count": 16,
     "metadata": {},
     "output_type": "execute_result"
    }
   ],
   "source": [
    "daily_sums = data.set_index('timestamp').resample('D')['irradiance'].sum()\n",
    "pd.DataFrame(daily_sums)"
   ]
  },
  {
   "cell_type": "code",
   "execution_count": null,
   "id": "1282e2aa-2889-4c3d-86d6-b1edc7527679",
   "metadata": {},
   "outputs": [],
   "source": []
  }
 ],
 "metadata": {
  "kernelspec": {
   "display_name": "Python 3 (ipykernel)",
   "language": "python",
   "name": "python3"
  },
  "language_info": {
   "codemirror_mode": {
    "name": "ipython",
    "version": 3
   },
   "file_extension": ".py",
   "mimetype": "text/x-python",
   "name": "python",
   "nbconvert_exporter": "python",
   "pygments_lexer": "ipython3",
   "version": "3.13.1"
  }
 },
 "nbformat": 4,
 "nbformat_minor": 5
}
